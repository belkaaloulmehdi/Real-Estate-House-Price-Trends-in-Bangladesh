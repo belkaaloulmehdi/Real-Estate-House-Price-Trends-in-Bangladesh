{
  "cells": [
    {
      "cell_type": "markdown",
      "metadata": {
        "id": "view-in-github",
        "colab_type": "text"
      },
      "source": [
        "<a href=\"https://colab.research.google.com/github/belkaaloulmehdi/Real-Estate-House-Price-Trends-in-Bangladesh/blob/main/Real_Estate_%26_House_Price_Trends_in_Bangladesh.ipynb\" target=\"_parent\"><img src=\"https://colab.research.google.com/assets/colab-badge.svg\" alt=\"Open In Colab\"/></a>"
      ]
    },
    {
      "cell_type": "markdown",
      "metadata": {
        "id": "bV_tGRPTGP8F"
      },
      "source": [
        "# Real Estate & House Price Trends in Bangladesh:\n"
      ]
    },
    {
      "cell_type": "markdown",
      "metadata": {
        "id": "cPHXpFGMy-2p"
      },
      "source": [
        "# **Data Exploration**"
      ]
    },
    {
      "cell_type": "markdown",
      "metadata": {
        "id": "GCgr3xuHmr_y"
      },
      "source": [
        "## Libraries import"
      ]
    },
    {
      "cell_type": "code",
      "execution_count": null,
      "metadata": {
        "id": "eeEs_gesGP8H"
      },
      "outputs": [],
      "source": [
        "# Import\n",
        "import pandas as pd\n",
        "import numpy as np\n",
        "import scipy as stats\n",
        "import seaborn as sns\n",
        "import matplotlib.pyplot as plt\n",
        "\n",
        "# Import libraries for Machine Learning\n",
        "from sklearn.model_selection import train_test_split\n",
        "from sklearn.preprocessing import StandardScaler, OneHotEncoder\n",
        "from sklearn.compose import ColumnTransformer\n",
        "from sklearn.linear_model import LinearRegression\n",
        "from sklearn.impute import SimpleImputer\n",
        "from sklearn.metrics import mean_absolute_error"
      ]
    },
    {
      "cell_type": "markdown",
      "metadata": {
        "id": "HhB3kkQZOx7v"
      },
      "source": [
        "## Data cleaning"
      ]
    },
    {
      "cell_type": "code",
      "execution_count": null,
      "metadata": {
        "colab": {
          "base_uri": "https://localhost:8080/",
          "height": 374
        },
        "id": "DXZdqWmlGP8I",
        "outputId": "b4b56320-c86a-455e-f9ae-e82023c76bd4"
      },
      "outputs": [
        {
          "output_type": "execute_result",
          "data": {
            "text/plain": [
              "                                               Title  Bedrooms  Bathrooms  \\\n",
              "0  We Are Offering You A Very Spacious 1960 Sq Ft...       3.0        4.0   \n",
              "1  Valuable 1705 Square Feet Apartment Is Ready T...       3.0        3.0   \n",
              "2  1370 square feet apartment is ready to sale in...       3.0        3.0   \n",
              "3  2125 Square Feet Apartment For Sale In Bashund...       3.0        3.0   \n",
              "4  Buy This 2687 Square Feet Flat In The Nice Are...       3.0        3.0   \n",
              "\n",
              "  Floor_no Occupancy_status  Floor_area   City Price_in_taka  \\\n",
              "0        3           vacant      1960.0  dhaka   ৳39,000,000   \n",
              "1        1           vacant      1705.0  dhaka   ৳16,900,000   \n",
              "2        6           vacant      1370.0  dhaka   ৳12,500,000   \n",
              "3        4           vacant      2125.0  dhaka   ৳20,000,000   \n",
              "4        4           vacant      2687.0  dhaka   ৳47,500,000   \n",
              "\n",
              "                      Location  \n",
              "0           Gulshan 1, Gulshan  \n",
              "1  Lake Circus Road, Kalabagan  \n",
              "2         Shukrabad, Dhanmondi  \n",
              "3     Block L, Bashundhara R-A  \n",
              "4           Road No 25, Banani  "
            ],
            "text/html": [
              "\n",
              "  <div id=\"df-7de195b0-8397-45b0-b990-623976fc5a38\" class=\"colab-df-container\">\n",
              "    <div>\n",
              "<style scoped>\n",
              "    .dataframe tbody tr th:only-of-type {\n",
              "        vertical-align: middle;\n",
              "    }\n",
              "\n",
              "    .dataframe tbody tr th {\n",
              "        vertical-align: top;\n",
              "    }\n",
              "\n",
              "    .dataframe thead th {\n",
              "        text-align: right;\n",
              "    }\n",
              "</style>\n",
              "<table border=\"1\" class=\"dataframe\">\n",
              "  <thead>\n",
              "    <tr style=\"text-align: right;\">\n",
              "      <th></th>\n",
              "      <th>Title</th>\n",
              "      <th>Bedrooms</th>\n",
              "      <th>Bathrooms</th>\n",
              "      <th>Floor_no</th>\n",
              "      <th>Occupancy_status</th>\n",
              "      <th>Floor_area</th>\n",
              "      <th>City</th>\n",
              "      <th>Price_in_taka</th>\n",
              "      <th>Location</th>\n",
              "    </tr>\n",
              "  </thead>\n",
              "  <tbody>\n",
              "    <tr>\n",
              "      <th>0</th>\n",
              "      <td>We Are Offering You A Very Spacious 1960 Sq Ft...</td>\n",
              "      <td>3.0</td>\n",
              "      <td>4.0</td>\n",
              "      <td>3</td>\n",
              "      <td>vacant</td>\n",
              "      <td>1960.0</td>\n",
              "      <td>dhaka</td>\n",
              "      <td>৳39,000,000</td>\n",
              "      <td>Gulshan 1, Gulshan</td>\n",
              "    </tr>\n",
              "    <tr>\n",
              "      <th>1</th>\n",
              "      <td>Valuable 1705 Square Feet Apartment Is Ready T...</td>\n",
              "      <td>3.0</td>\n",
              "      <td>3.0</td>\n",
              "      <td>1</td>\n",
              "      <td>vacant</td>\n",
              "      <td>1705.0</td>\n",
              "      <td>dhaka</td>\n",
              "      <td>৳16,900,000</td>\n",
              "      <td>Lake Circus Road, Kalabagan</td>\n",
              "    </tr>\n",
              "    <tr>\n",
              "      <th>2</th>\n",
              "      <td>1370 square feet apartment is ready to sale in...</td>\n",
              "      <td>3.0</td>\n",
              "      <td>3.0</td>\n",
              "      <td>6</td>\n",
              "      <td>vacant</td>\n",
              "      <td>1370.0</td>\n",
              "      <td>dhaka</td>\n",
              "      <td>৳12,500,000</td>\n",
              "      <td>Shukrabad, Dhanmondi</td>\n",
              "    </tr>\n",
              "    <tr>\n",
              "      <th>3</th>\n",
              "      <td>2125 Square Feet Apartment For Sale In Bashund...</td>\n",
              "      <td>3.0</td>\n",
              "      <td>3.0</td>\n",
              "      <td>4</td>\n",
              "      <td>vacant</td>\n",
              "      <td>2125.0</td>\n",
              "      <td>dhaka</td>\n",
              "      <td>৳20,000,000</td>\n",
              "      <td>Block L, Bashundhara R-A</td>\n",
              "    </tr>\n",
              "    <tr>\n",
              "      <th>4</th>\n",
              "      <td>Buy This 2687 Square Feet Flat In The Nice Are...</td>\n",
              "      <td>3.0</td>\n",
              "      <td>3.0</td>\n",
              "      <td>4</td>\n",
              "      <td>vacant</td>\n",
              "      <td>2687.0</td>\n",
              "      <td>dhaka</td>\n",
              "      <td>৳47,500,000</td>\n",
              "      <td>Road No 25, Banani</td>\n",
              "    </tr>\n",
              "  </tbody>\n",
              "</table>\n",
              "</div>\n",
              "    <div class=\"colab-df-buttons\">\n",
              "\n",
              "  <div class=\"colab-df-container\">\n",
              "    <button class=\"colab-df-convert\" onclick=\"convertToInteractive('df-7de195b0-8397-45b0-b990-623976fc5a38')\"\n",
              "            title=\"Convert this dataframe to an interactive table.\"\n",
              "            style=\"display:none;\">\n",
              "\n",
              "  <svg xmlns=\"http://www.w3.org/2000/svg\" height=\"24px\" viewBox=\"0 -960 960 960\">\n",
              "    <path d=\"M120-120v-720h720v720H120Zm60-500h600v-160H180v160Zm220 220h160v-160H400v160Zm0 220h160v-160H400v160ZM180-400h160v-160H180v160Zm440 0h160v-160H620v160ZM180-180h160v-160H180v160Zm440 0h160v-160H620v160Z\"/>\n",
              "  </svg>\n",
              "    </button>\n",
              "\n",
              "  <style>\n",
              "    .colab-df-container {\n",
              "      display:flex;\n",
              "      gap: 12px;\n",
              "    }\n",
              "\n",
              "    .colab-df-convert {\n",
              "      background-color: #E8F0FE;\n",
              "      border: none;\n",
              "      border-radius: 50%;\n",
              "      cursor: pointer;\n",
              "      display: none;\n",
              "      fill: #1967D2;\n",
              "      height: 32px;\n",
              "      padding: 0 0 0 0;\n",
              "      width: 32px;\n",
              "    }\n",
              "\n",
              "    .colab-df-convert:hover {\n",
              "      background-color: #E2EBFA;\n",
              "      box-shadow: 0px 1px 2px rgba(60, 64, 67, 0.3), 0px 1px 3px 1px rgba(60, 64, 67, 0.15);\n",
              "      fill: #174EA6;\n",
              "    }\n",
              "\n",
              "    .colab-df-buttons div {\n",
              "      margin-bottom: 4px;\n",
              "    }\n",
              "\n",
              "    [theme=dark] .colab-df-convert {\n",
              "      background-color: #3B4455;\n",
              "      fill: #D2E3FC;\n",
              "    }\n",
              "\n",
              "    [theme=dark] .colab-df-convert:hover {\n",
              "      background-color: #434B5C;\n",
              "      box-shadow: 0px 1px 3px 1px rgba(0, 0, 0, 0.15);\n",
              "      filter: drop-shadow(0px 1px 2px rgba(0, 0, 0, 0.3));\n",
              "      fill: #FFFFFF;\n",
              "    }\n",
              "  </style>\n",
              "\n",
              "    <script>\n",
              "      const buttonEl =\n",
              "        document.querySelector('#df-7de195b0-8397-45b0-b990-623976fc5a38 button.colab-df-convert');\n",
              "      buttonEl.style.display =\n",
              "        google.colab.kernel.accessAllowed ? 'block' : 'none';\n",
              "\n",
              "      async function convertToInteractive(key) {\n",
              "        const element = document.querySelector('#df-7de195b0-8397-45b0-b990-623976fc5a38');\n",
              "        const dataTable =\n",
              "          await google.colab.kernel.invokeFunction('convertToInteractive',\n",
              "                                                    [key], {});\n",
              "        if (!dataTable) return;\n",
              "\n",
              "        const docLinkHtml = 'Like what you see? Visit the ' +\n",
              "          '<a target=\"_blank\" href=https://colab.research.google.com/notebooks/data_table.ipynb>data table notebook</a>'\n",
              "          + ' to learn more about interactive tables.';\n",
              "        element.innerHTML = '';\n",
              "        dataTable['output_type'] = 'display_data';\n",
              "        await google.colab.output.renderOutput(dataTable, element);\n",
              "        const docLink = document.createElement('div');\n",
              "        docLink.innerHTML = docLinkHtml;\n",
              "        element.appendChild(docLink);\n",
              "      }\n",
              "    </script>\n",
              "  </div>\n",
              "\n",
              "\n",
              "<div id=\"df-8a0136e0-4aa0-4ddf-ad4e-a1a9fcf29f75\">\n",
              "  <button class=\"colab-df-quickchart\" onclick=\"quickchart('df-8a0136e0-4aa0-4ddf-ad4e-a1a9fcf29f75')\"\n",
              "            title=\"Suggest charts\"\n",
              "            style=\"display:none;\">\n",
              "\n",
              "<svg xmlns=\"http://www.w3.org/2000/svg\" height=\"24px\"viewBox=\"0 0 24 24\"\n",
              "     width=\"24px\">\n",
              "    <g>\n",
              "        <path d=\"M19 3H5c-1.1 0-2 .9-2 2v14c0 1.1.9 2 2 2h14c1.1 0 2-.9 2-2V5c0-1.1-.9-2-2-2zM9 17H7v-7h2v7zm4 0h-2V7h2v10zm4 0h-2v-4h2v4z\"/>\n",
              "    </g>\n",
              "</svg>\n",
              "  </button>\n",
              "\n",
              "<style>\n",
              "  .colab-df-quickchart {\n",
              "      --bg-color: #E8F0FE;\n",
              "      --fill-color: #1967D2;\n",
              "      --hover-bg-color: #E2EBFA;\n",
              "      --hover-fill-color: #174EA6;\n",
              "      --disabled-fill-color: #AAA;\n",
              "      --disabled-bg-color: #DDD;\n",
              "  }\n",
              "\n",
              "  [theme=dark] .colab-df-quickchart {\n",
              "      --bg-color: #3B4455;\n",
              "      --fill-color: #D2E3FC;\n",
              "      --hover-bg-color: #434B5C;\n",
              "      --hover-fill-color: #FFFFFF;\n",
              "      --disabled-bg-color: #3B4455;\n",
              "      --disabled-fill-color: #666;\n",
              "  }\n",
              "\n",
              "  .colab-df-quickchart {\n",
              "    background-color: var(--bg-color);\n",
              "    border: none;\n",
              "    border-radius: 50%;\n",
              "    cursor: pointer;\n",
              "    display: none;\n",
              "    fill: var(--fill-color);\n",
              "    height: 32px;\n",
              "    padding: 0;\n",
              "    width: 32px;\n",
              "  }\n",
              "\n",
              "  .colab-df-quickchart:hover {\n",
              "    background-color: var(--hover-bg-color);\n",
              "    box-shadow: 0 1px 2px rgba(60, 64, 67, 0.3), 0 1px 3px 1px rgba(60, 64, 67, 0.15);\n",
              "    fill: var(--button-hover-fill-color);\n",
              "  }\n",
              "\n",
              "  .colab-df-quickchart-complete:disabled,\n",
              "  .colab-df-quickchart-complete:disabled:hover {\n",
              "    background-color: var(--disabled-bg-color);\n",
              "    fill: var(--disabled-fill-color);\n",
              "    box-shadow: none;\n",
              "  }\n",
              "\n",
              "  .colab-df-spinner {\n",
              "    border: 2px solid var(--fill-color);\n",
              "    border-color: transparent;\n",
              "    border-bottom-color: var(--fill-color);\n",
              "    animation:\n",
              "      spin 1s steps(1) infinite;\n",
              "  }\n",
              "\n",
              "  @keyframes spin {\n",
              "    0% {\n",
              "      border-color: transparent;\n",
              "      border-bottom-color: var(--fill-color);\n",
              "      border-left-color: var(--fill-color);\n",
              "    }\n",
              "    20% {\n",
              "      border-color: transparent;\n",
              "      border-left-color: var(--fill-color);\n",
              "      border-top-color: var(--fill-color);\n",
              "    }\n",
              "    30% {\n",
              "      border-color: transparent;\n",
              "      border-left-color: var(--fill-color);\n",
              "      border-top-color: var(--fill-color);\n",
              "      border-right-color: var(--fill-color);\n",
              "    }\n",
              "    40% {\n",
              "      border-color: transparent;\n",
              "      border-right-color: var(--fill-color);\n",
              "      border-top-color: var(--fill-color);\n",
              "    }\n",
              "    60% {\n",
              "      border-color: transparent;\n",
              "      border-right-color: var(--fill-color);\n",
              "    }\n",
              "    80% {\n",
              "      border-color: transparent;\n",
              "      border-right-color: var(--fill-color);\n",
              "      border-bottom-color: var(--fill-color);\n",
              "    }\n",
              "    90% {\n",
              "      border-color: transparent;\n",
              "      border-bottom-color: var(--fill-color);\n",
              "    }\n",
              "  }\n",
              "</style>\n",
              "\n",
              "  <script>\n",
              "    async function quickchart(key) {\n",
              "      const quickchartButtonEl =\n",
              "        document.querySelector('#' + key + ' button');\n",
              "      quickchartButtonEl.disabled = true;  // To prevent multiple clicks.\n",
              "      quickchartButtonEl.classList.add('colab-df-spinner');\n",
              "      try {\n",
              "        const charts = await google.colab.kernel.invokeFunction(\n",
              "            'suggestCharts', [key], {});\n",
              "      } catch (error) {\n",
              "        console.error('Error during call to suggestCharts:', error);\n",
              "      }\n",
              "      quickchartButtonEl.classList.remove('colab-df-spinner');\n",
              "      quickchartButtonEl.classList.add('colab-df-quickchart-complete');\n",
              "    }\n",
              "    (() => {\n",
              "      let quickchartButtonEl =\n",
              "        document.querySelector('#df-8a0136e0-4aa0-4ddf-ad4e-a1a9fcf29f75 button');\n",
              "      quickchartButtonEl.style.display =\n",
              "        google.colab.kernel.accessAllowed ? 'block' : 'none';\n",
              "    })();\n",
              "  </script>\n",
              "</div>\n",
              "\n",
              "    </div>\n",
              "  </div>\n"
            ],
            "application/vnd.google.colaboratory.intrinsic+json": {
              "type": "dataframe",
              "variable_name": "df",
              "summary": "{\n  \"name\": \"df\",\n  \"rows\": 3865,\n  \"fields\": [\n    {\n      \"column\": \"Title\",\n      \"properties\": {\n        \"dtype\": \"string\",\n        \"num_unique_values\": 2920,\n        \"samples\": [\n          \"A 3 Katha Plot Is For Sale At Rupganj, Bproperty Village\",\n          \"A Perfect Residential Plot Is Available For Sale At Bproperty Village, Narayanganj\",\n          \"Checkout This 915 Sq Ft Flat Available For Sale In Kandirpar\"\n        ],\n        \"semantic_type\": \"\",\n        \"description\": \"\"\n      }\n    },\n    {\n      \"column\": \"Bedrooms\",\n      \"properties\": {\n        \"dtype\": \"number\",\n        \"std\": 2.215456712135242,\n        \"min\": 1.0,\n        \"max\": 50.0,\n        \"num_unique_values\": 20,\n        \"samples\": [\n          3.0,\n          20.0,\n          21.0\n        ],\n        \"semantic_type\": \"\",\n        \"description\": \"\"\n      }\n    },\n    {\n      \"column\": \"Bathrooms\",\n      \"properties\": {\n        \"dtype\": \"number\",\n        \"std\": 0.9784342456286667,\n        \"min\": 1.0,\n        \"max\": 10.0,\n        \"num_unique_values\": 8,\n        \"samples\": [\n          3.0,\n          1.0,\n          4.0\n        ],\n        \"semantic_type\": \"\",\n        \"description\": \"\"\n      }\n    },\n    {\n      \"column\": \"Floor_no\",\n      \"properties\": {\n        \"dtype\": \"category\",\n        \"num_unique_values\": 25,\n        \"samples\": [\n          \"9\",\n          \"11\",\n          \"3\"\n        ],\n        \"semantic_type\": \"\",\n        \"description\": \"\"\n      }\n    },\n    {\n      \"column\": \"Occupancy_status\",\n      \"properties\": {\n        \"dtype\": \"category\",\n        \"num_unique_values\": 2,\n        \"samples\": [\n          \"occupied\",\n          \"vacant\"\n        ],\n        \"semantic_type\": \"\",\n        \"description\": \"\"\n      }\n    },\n    {\n      \"column\": \"Floor_area\",\n      \"properties\": {\n        \"dtype\": \"number\",\n        \"std\": 6024.921935410663,\n        \"min\": 84.0,\n        \"max\": 195840.0,\n        \"num_unique_values\": 668,\n        \"samples\": [\n          4686.0,\n          2945.0\n        ],\n        \"semantic_type\": \"\",\n        \"description\": \"\"\n      }\n    },\n    {\n      \"column\": \"City\",\n      \"properties\": {\n        \"dtype\": \"category\",\n        \"num_unique_values\": 5,\n        \"samples\": [\n          \"chattogram\",\n          \"gazipur\"\n        ],\n        \"semantic_type\": \"\",\n        \"description\": \"\"\n      }\n    },\n    {\n      \"column\": \"Price_in_taka\",\n      \"properties\": {\n        \"dtype\": \"category\",\n        \"num_unique_values\": 702,\n        \"samples\": [\n          \"\\u09f310,419,000\",\n          \"\\u09f39,630,000\"\n        ],\n        \"semantic_type\": \"\",\n        \"description\": \"\"\n      }\n    },\n    {\n      \"column\": \"Location\",\n      \"properties\": {\n        \"dtype\": \"category\",\n        \"num_unique_values\": 505,\n        \"samples\": [\n          \"Nayatola, Maghbazar\",\n          \"Road No 2, Banani\"\n        ],\n        \"semantic_type\": \"\",\n        \"description\": \"\"\n      }\n    }\n  ]\n}"
            }
          },
          "metadata": {},
          "execution_count": 5
        }
      ],
      "source": [
        "# Import & visualize dataset\n",
        "df = pd.read_csv(\"/house_price_bd.csv\")\n",
        "df.head()"
      ]
    },
    {
      "cell_type": "code",
      "execution_count": null,
      "metadata": {
        "id": "-41NBDB1JH-x",
        "colab": {
          "base_uri": "https://localhost:8080/"
        },
        "outputId": "16be4a61-d14a-4f4b-fea1-afc2c2d8f07c"
      },
      "outputs": [
        {
          "output_type": "stream",
          "name": "stdout",
          "text": [
            "(3865, 9)\n"
          ]
        }
      ],
      "source": [
        "# Print the shape of dataset in the form of (#rows, #columns)\n",
        "print(df.shape)"
      ]
    },
    {
      "cell_type": "code",
      "execution_count": null,
      "metadata": {
        "id": "PSfEVbgBeFiT",
        "colab": {
          "base_uri": "https://localhost:8080/",
          "height": 297
        },
        "outputId": "52a14a06-7449-439d-a5f7-4a4c231db46b"
      },
      "outputs": [
        {
          "output_type": "execute_result",
          "data": {
            "text/plain": [
              "          Bedrooms    Bathrooms     Floor_area\n",
              "count  2864.000000  2864.000000    3766.000000\n",
              "mean      3.133031     2.992668    1940.299522\n",
              "std       2.215457     0.978434    6024.921935\n",
              "min       1.000000     1.000000      84.000000\n",
              "25%       3.000000     3.000000    1100.000000\n",
              "50%       3.000000     3.000000    1380.000000\n",
              "75%       3.000000     3.000000    1860.000000\n",
              "max      50.000000    10.000000  195840.000000"
            ],
            "text/html": [
              "\n",
              "  <div id=\"df-beb84ea0-475c-405a-a671-1e7336c5cfd0\" class=\"colab-df-container\">\n",
              "    <div>\n",
              "<style scoped>\n",
              "    .dataframe tbody tr th:only-of-type {\n",
              "        vertical-align: middle;\n",
              "    }\n",
              "\n",
              "    .dataframe tbody tr th {\n",
              "        vertical-align: top;\n",
              "    }\n",
              "\n",
              "    .dataframe thead th {\n",
              "        text-align: right;\n",
              "    }\n",
              "</style>\n",
              "<table border=\"1\" class=\"dataframe\">\n",
              "  <thead>\n",
              "    <tr style=\"text-align: right;\">\n",
              "      <th></th>\n",
              "      <th>Bedrooms</th>\n",
              "      <th>Bathrooms</th>\n",
              "      <th>Floor_area</th>\n",
              "    </tr>\n",
              "  </thead>\n",
              "  <tbody>\n",
              "    <tr>\n",
              "      <th>count</th>\n",
              "      <td>2864.000000</td>\n",
              "      <td>2864.000000</td>\n",
              "      <td>3766.000000</td>\n",
              "    </tr>\n",
              "    <tr>\n",
              "      <th>mean</th>\n",
              "      <td>3.133031</td>\n",
              "      <td>2.992668</td>\n",
              "      <td>1940.299522</td>\n",
              "    </tr>\n",
              "    <tr>\n",
              "      <th>std</th>\n",
              "      <td>2.215457</td>\n",
              "      <td>0.978434</td>\n",
              "      <td>6024.921935</td>\n",
              "    </tr>\n",
              "    <tr>\n",
              "      <th>min</th>\n",
              "      <td>1.000000</td>\n",
              "      <td>1.000000</td>\n",
              "      <td>84.000000</td>\n",
              "    </tr>\n",
              "    <tr>\n",
              "      <th>25%</th>\n",
              "      <td>3.000000</td>\n",
              "      <td>3.000000</td>\n",
              "      <td>1100.000000</td>\n",
              "    </tr>\n",
              "    <tr>\n",
              "      <th>50%</th>\n",
              "      <td>3.000000</td>\n",
              "      <td>3.000000</td>\n",
              "      <td>1380.000000</td>\n",
              "    </tr>\n",
              "    <tr>\n",
              "      <th>75%</th>\n",
              "      <td>3.000000</td>\n",
              "      <td>3.000000</td>\n",
              "      <td>1860.000000</td>\n",
              "    </tr>\n",
              "    <tr>\n",
              "      <th>max</th>\n",
              "      <td>50.000000</td>\n",
              "      <td>10.000000</td>\n",
              "      <td>195840.000000</td>\n",
              "    </tr>\n",
              "  </tbody>\n",
              "</table>\n",
              "</div>\n",
              "    <div class=\"colab-df-buttons\">\n",
              "\n",
              "  <div class=\"colab-df-container\">\n",
              "    <button class=\"colab-df-convert\" onclick=\"convertToInteractive('df-beb84ea0-475c-405a-a671-1e7336c5cfd0')\"\n",
              "            title=\"Convert this dataframe to an interactive table.\"\n",
              "            style=\"display:none;\">\n",
              "\n",
              "  <svg xmlns=\"http://www.w3.org/2000/svg\" height=\"24px\" viewBox=\"0 -960 960 960\">\n",
              "    <path d=\"M120-120v-720h720v720H120Zm60-500h600v-160H180v160Zm220 220h160v-160H400v160Zm0 220h160v-160H400v160ZM180-400h160v-160H180v160Zm440 0h160v-160H620v160ZM180-180h160v-160H180v160Zm440 0h160v-160H620v160Z\"/>\n",
              "  </svg>\n",
              "    </button>\n",
              "\n",
              "  <style>\n",
              "    .colab-df-container {\n",
              "      display:flex;\n",
              "      gap: 12px;\n",
              "    }\n",
              "\n",
              "    .colab-df-convert {\n",
              "      background-color: #E8F0FE;\n",
              "      border: none;\n",
              "      border-radius: 50%;\n",
              "      cursor: pointer;\n",
              "      display: none;\n",
              "      fill: #1967D2;\n",
              "      height: 32px;\n",
              "      padding: 0 0 0 0;\n",
              "      width: 32px;\n",
              "    }\n",
              "\n",
              "    .colab-df-convert:hover {\n",
              "      background-color: #E2EBFA;\n",
              "      box-shadow: 0px 1px 2px rgba(60, 64, 67, 0.3), 0px 1px 3px 1px rgba(60, 64, 67, 0.15);\n",
              "      fill: #174EA6;\n",
              "    }\n",
              "\n",
              "    .colab-df-buttons div {\n",
              "      margin-bottom: 4px;\n",
              "    }\n",
              "\n",
              "    [theme=dark] .colab-df-convert {\n",
              "      background-color: #3B4455;\n",
              "      fill: #D2E3FC;\n",
              "    }\n",
              "\n",
              "    [theme=dark] .colab-df-convert:hover {\n",
              "      background-color: #434B5C;\n",
              "      box-shadow: 0px 1px 3px 1px rgba(0, 0, 0, 0.15);\n",
              "      filter: drop-shadow(0px 1px 2px rgba(0, 0, 0, 0.3));\n",
              "      fill: #FFFFFF;\n",
              "    }\n",
              "  </style>\n",
              "\n",
              "    <script>\n",
              "      const buttonEl =\n",
              "        document.querySelector('#df-beb84ea0-475c-405a-a671-1e7336c5cfd0 button.colab-df-convert');\n",
              "      buttonEl.style.display =\n",
              "        google.colab.kernel.accessAllowed ? 'block' : 'none';\n",
              "\n",
              "      async function convertToInteractive(key) {\n",
              "        const element = document.querySelector('#df-beb84ea0-475c-405a-a671-1e7336c5cfd0');\n",
              "        const dataTable =\n",
              "          await google.colab.kernel.invokeFunction('convertToInteractive',\n",
              "                                                    [key], {});\n",
              "        if (!dataTable) return;\n",
              "\n",
              "        const docLinkHtml = 'Like what you see? Visit the ' +\n",
              "          '<a target=\"_blank\" href=https://colab.research.google.com/notebooks/data_table.ipynb>data table notebook</a>'\n",
              "          + ' to learn more about interactive tables.';\n",
              "        element.innerHTML = '';\n",
              "        dataTable['output_type'] = 'display_data';\n",
              "        await google.colab.output.renderOutput(dataTable, element);\n",
              "        const docLink = document.createElement('div');\n",
              "        docLink.innerHTML = docLinkHtml;\n",
              "        element.appendChild(docLink);\n",
              "      }\n",
              "    </script>\n",
              "  </div>\n",
              "\n",
              "\n",
              "<div id=\"df-9cfed398-f850-4588-8453-abeded60132a\">\n",
              "  <button class=\"colab-df-quickchart\" onclick=\"quickchart('df-9cfed398-f850-4588-8453-abeded60132a')\"\n",
              "            title=\"Suggest charts\"\n",
              "            style=\"display:none;\">\n",
              "\n",
              "<svg xmlns=\"http://www.w3.org/2000/svg\" height=\"24px\"viewBox=\"0 0 24 24\"\n",
              "     width=\"24px\">\n",
              "    <g>\n",
              "        <path d=\"M19 3H5c-1.1 0-2 .9-2 2v14c0 1.1.9 2 2 2h14c1.1 0 2-.9 2-2V5c0-1.1-.9-2-2-2zM9 17H7v-7h2v7zm4 0h-2V7h2v10zm4 0h-2v-4h2v4z\"/>\n",
              "    </g>\n",
              "</svg>\n",
              "  </button>\n",
              "\n",
              "<style>\n",
              "  .colab-df-quickchart {\n",
              "      --bg-color: #E8F0FE;\n",
              "      --fill-color: #1967D2;\n",
              "      --hover-bg-color: #E2EBFA;\n",
              "      --hover-fill-color: #174EA6;\n",
              "      --disabled-fill-color: #AAA;\n",
              "      --disabled-bg-color: #DDD;\n",
              "  }\n",
              "\n",
              "  [theme=dark] .colab-df-quickchart {\n",
              "      --bg-color: #3B4455;\n",
              "      --fill-color: #D2E3FC;\n",
              "      --hover-bg-color: #434B5C;\n",
              "      --hover-fill-color: #FFFFFF;\n",
              "      --disabled-bg-color: #3B4455;\n",
              "      --disabled-fill-color: #666;\n",
              "  }\n",
              "\n",
              "  .colab-df-quickchart {\n",
              "    background-color: var(--bg-color);\n",
              "    border: none;\n",
              "    border-radius: 50%;\n",
              "    cursor: pointer;\n",
              "    display: none;\n",
              "    fill: var(--fill-color);\n",
              "    height: 32px;\n",
              "    padding: 0;\n",
              "    width: 32px;\n",
              "  }\n",
              "\n",
              "  .colab-df-quickchart:hover {\n",
              "    background-color: var(--hover-bg-color);\n",
              "    box-shadow: 0 1px 2px rgba(60, 64, 67, 0.3), 0 1px 3px 1px rgba(60, 64, 67, 0.15);\n",
              "    fill: var(--button-hover-fill-color);\n",
              "  }\n",
              "\n",
              "  .colab-df-quickchart-complete:disabled,\n",
              "  .colab-df-quickchart-complete:disabled:hover {\n",
              "    background-color: var(--disabled-bg-color);\n",
              "    fill: var(--disabled-fill-color);\n",
              "    box-shadow: none;\n",
              "  }\n",
              "\n",
              "  .colab-df-spinner {\n",
              "    border: 2px solid var(--fill-color);\n",
              "    border-color: transparent;\n",
              "    border-bottom-color: var(--fill-color);\n",
              "    animation:\n",
              "      spin 1s steps(1) infinite;\n",
              "  }\n",
              "\n",
              "  @keyframes spin {\n",
              "    0% {\n",
              "      border-color: transparent;\n",
              "      border-bottom-color: var(--fill-color);\n",
              "      border-left-color: var(--fill-color);\n",
              "    }\n",
              "    20% {\n",
              "      border-color: transparent;\n",
              "      border-left-color: var(--fill-color);\n",
              "      border-top-color: var(--fill-color);\n",
              "    }\n",
              "    30% {\n",
              "      border-color: transparent;\n",
              "      border-left-color: var(--fill-color);\n",
              "      border-top-color: var(--fill-color);\n",
              "      border-right-color: var(--fill-color);\n",
              "    }\n",
              "    40% {\n",
              "      border-color: transparent;\n",
              "      border-right-color: var(--fill-color);\n",
              "      border-top-color: var(--fill-color);\n",
              "    }\n",
              "    60% {\n",
              "      border-color: transparent;\n",
              "      border-right-color: var(--fill-color);\n",
              "    }\n",
              "    80% {\n",
              "      border-color: transparent;\n",
              "      border-right-color: var(--fill-color);\n",
              "      border-bottom-color: var(--fill-color);\n",
              "    }\n",
              "    90% {\n",
              "      border-color: transparent;\n",
              "      border-bottom-color: var(--fill-color);\n",
              "    }\n",
              "  }\n",
              "</style>\n",
              "\n",
              "  <script>\n",
              "    async function quickchart(key) {\n",
              "      const quickchartButtonEl =\n",
              "        document.querySelector('#' + key + ' button');\n",
              "      quickchartButtonEl.disabled = true;  // To prevent multiple clicks.\n",
              "      quickchartButtonEl.classList.add('colab-df-spinner');\n",
              "      try {\n",
              "        const charts = await google.colab.kernel.invokeFunction(\n",
              "            'suggestCharts', [key], {});\n",
              "      } catch (error) {\n",
              "        console.error('Error during call to suggestCharts:', error);\n",
              "      }\n",
              "      quickchartButtonEl.classList.remove('colab-df-spinner');\n",
              "      quickchartButtonEl.classList.add('colab-df-quickchart-complete');\n",
              "    }\n",
              "    (() => {\n",
              "      let quickchartButtonEl =\n",
              "        document.querySelector('#df-9cfed398-f850-4588-8453-abeded60132a button');\n",
              "      quickchartButtonEl.style.display =\n",
              "        google.colab.kernel.accessAllowed ? 'block' : 'none';\n",
              "    })();\n",
              "  </script>\n",
              "</div>\n",
              "\n",
              "    </div>\n",
              "  </div>\n"
            ],
            "application/vnd.google.colaboratory.intrinsic+json": {
              "type": "dataframe",
              "summary": "{\n  \"name\": \"df\",\n  \"rows\": 8,\n  \"fields\": [\n    {\n      \"column\": \"Bedrooms\",\n      \"properties\": {\n        \"dtype\": \"number\",\n        \"std\": 1009.4130829364427,\n        \"min\": 1.0,\n        \"max\": 2864.0,\n        \"num_unique_values\": 6,\n        \"samples\": [\n          2864.0,\n          3.133030726256983,\n          50.0\n        ],\n        \"semantic_type\": \"\",\n        \"description\": \"\"\n      }\n    },\n    {\n      \"column\": \"Bathrooms\",\n      \"properties\": {\n        \"dtype\": \"number\",\n        \"std\": 1011.370129912713,\n        \"min\": 0.9784342456286667,\n        \"max\": 2864.0,\n        \"num_unique_values\": 6,\n        \"samples\": [\n          2864.0,\n          2.992667597765363,\n          10.0\n        ],\n        \"semantic_type\": \"\",\n        \"description\": \"\"\n      }\n    },\n    {\n      \"column\": \"Floor_area\",\n      \"properties\": {\n        \"dtype\": \"number\",\n        \"std\": 68448.50735977046,\n        \"min\": 84.0,\n        \"max\": 195840.0,\n        \"num_unique_values\": 8,\n        \"samples\": [\n          1940.299522039299,\n          1380.0,\n          3766.0\n        ],\n        \"semantic_type\": \"\",\n        \"description\": \"\"\n      }\n    }\n  ]\n}"
            }
          },
          "metadata": {},
          "execution_count": 7
        }
      ],
      "source": [
        "# We use the function describe to have the main statistics information\n",
        "df.describe()"
      ]
    },
    {
      "cell_type": "markdown",
      "metadata": {
        "id": "nhPG942nm0EE"
      },
      "source": [
        "**==> We noticed that 75% of the properties have >= 3 bedrooms >= 3 bathrooms and floor_area < 2000 sqft**"
      ]
    },
    {
      "cell_type": "code",
      "execution_count": null,
      "metadata": {
        "id": "BHnA8_mbT0vf",
        "colab": {
          "base_uri": "https://localhost:8080/",
          "height": 449
        },
        "outputId": "5fb8cf59-e0eb-4b55-8b21-b179d2f82601"
      },
      "outputs": [
        {
          "output_type": "display_data",
          "data": {
            "text/plain": [
              "<Figure size 640x480 with 1 Axes>"
            ],
            "image/png": "[encoded data removed]"
          },
          "metadata": {}
        }
      ],
      "source": [
        "df_count = df.groupby(\"Bedrooms\").size().reset_index(name=\"count\")\n",
        "sns.barplot(x=\"Bedrooms\", y=\"count\", data=df_count)\n",
        "plt.xlim(-1, 7)\n",
        "plt.show()"
      ]
    },
    {
      "cell_type": "code",
      "execution_count": null,
      "metadata": {
        "id": "xAWCrkZeT3-7",
        "colab": {
          "base_uri": "https://localhost:8080/",
          "height": 449
        },
        "outputId": "040e0262-d6a0-4072-b0ee-7e77db1442e9"
      },
      "outputs": [
        {
          "output_type": "display_data",
          "data": {
            "text/plain": [
              "<Figure size 640x480 with 1 Axes>"
            ],
            "image/png": "[encoded data removed]"
          },
          "metadata": {}
        }
      ],
      "source": [
        "df_count = df.groupby(\"Bathrooms\").size().reset_index(name=\"count\")\n",
        "sns.barplot(x=\"Bathrooms\", y=\"count\", data=df_count)\n",
        "plt.xlim(-1, 7)\n",
        "plt.show()"
      ]
    },
    {
      "cell_type": "code",
      "execution_count": null,
      "metadata": {
        "id": "8rEZ_gwJT5lW",
        "colab": {
          "base_uri": "https://localhost:8080/",
          "height": 607
        },
        "outputId": "773ac206-e341-4f5b-d425-af14c7b63532"
      },
      "outputs": [
        {
          "output_type": "display_data",
          "data": {
            "text/plain": [
              "<Figure size 1000x600 with 1 Axes>"
            ],
            "image/png": "[encoded data removed]"
          },
          "metadata": {}
        }
      ],
      "source": [
        "bins = np.arange(0, 3000, 100)\n",
        "\n",
        "\n",
        "df_count = df.groupby(\"Floor_area\").size().reset_index(name=\"count\")\n",
        "df_count[df_count[\"Floor_area\"] <= 3000]\n",
        "df_count = pd.cut(df_count[\"Floor_area\"], bins).value_counts().reset_index(name=\"count\")\n",
        "plt.figure(figsize=(10,6))  # Set the figure size to 10 inches wide and 6 inches tall\n",
        "sns.barplot(x=\"Floor_area\", y=\"count\", data=df_count, color = \"red\", )\n",
        "plt.xticks(np.arange(0, len(df_count), step=2))  # Affiche une étiquette sur deux\n",
        "plt.xticks(rotation=45, ha='right')  # Rotate the x-axis labels by 45 degrees\n",
        "plt.tight_layout()  # Adjust the layout to fit the labels\n",
        "plt.show()"
      ]
    },
    {
      "cell_type": "code",
      "execution_count": null,
      "metadata": {
        "id": "pApTwhJKGP8J",
        "colab": {
          "base_uri": "https://localhost:8080/"
        },
        "outputId": "2269a4d6-3f12-4804-ee1b-ae69aea5cd06"
      },
      "outputs": [
        {
          "output_type": "stream",
          "name": "stdout",
          "text": [
            "<class 'pandas.core.frame.DataFrame'>\n",
            "RangeIndex: 3865 entries, 0 to 3864\n",
            "Data columns (total 9 columns):\n",
            " #   Column            Non-Null Count  Dtype  \n",
            "---  ------            --------------  -----  \n",
            " 0   Title             3865 non-null   object \n",
            " 1   Bedrooms          2864 non-null   float64\n",
            " 2   Bathrooms         2864 non-null   float64\n",
            " 3   Floor_no          3181 non-null   object \n",
            " 4   Occupancy_status  3766 non-null   object \n",
            " 5   Floor_area        3766 non-null   float64\n",
            " 6   City              3865 non-null   object \n",
            " 7   Price_in_taka     3865 non-null   object \n",
            " 8   Location          3859 non-null   object \n",
            "dtypes: float64(3), object(6)\n",
            "memory usage: 271.9+ KB\n",
            "None\n"
          ]
        }
      ],
      "source": [
        "# We use this function to have the number and Dtype of the columns\n",
        "print(df.info())"
      ]
    },
    {
      "cell_type": "markdown",
      "metadata": {
        "id": "y2RnDfulnc6Y"
      },
      "source": [
        "**==> We noticed that Floor_no and Price_in_taka are in object type**"
      ]
    },
    {
      "cell_type": "code",
      "execution_count": null,
      "metadata": {
        "id": "EF00Vfb_K9WE",
        "colab": {
          "base_uri": "https://localhost:8080/"
        },
        "outputId": "8fbe52b1-9df9-4e44-80c9-9a96ef799b66"
      },
      "outputs": [
        {
          "output_type": "stream",
          "name": "stdout",
          "text": [
            "Possible value an doccurence for Bedrooms variable are :\n",
            "Bedrooms\n",
            "3.0         2191\n",
            "2.0          406\n",
            "4.0          220\n",
            "7.0            8\n",
            "16.0           5\n",
            "5.0            5\n",
            "8.0            4\n",
            "21.0           3\n",
            "18.0           3\n",
            "1.0            3\n",
            "6.0            3\n",
            "22.0           2\n",
            "23.0           2\n",
            "33.0           2\n",
            "50.0           2\n",
            "15.0           1\n",
            "13.0           1\n",
            "20.0           1\n",
            "27.0           1\n",
            "46.0           1\n",
            "Name: count, dtype: int64\n",
            "Possible value an doccurence for Bathrooms variable are :\n",
            "Bathrooms\n",
            "3.0          1763\n",
            "2.0           653\n",
            "4.0           324\n",
            "5.0            66\n",
            "10.0           24\n",
            "1.0            22\n",
            "8.0             8\n",
            "6.0             4\n",
            "Name: count, dtype: int64\n",
            "Possible value an doccurence for Floor_no variable are :\n",
            "Floor_no            \n",
            "1                       532\n",
            "4                       418\n",
            "5                       402\n",
            "2                       397\n",
            "3                       366\n",
            "6                       316\n",
            "7                       252\n",
            "8                       228\n",
            "9                       167\n",
            "10                       30\n",
            "11                       26\n",
            "12                       19\n",
            "13                        8\n",
            "Merin City - Purbach      6\n",
            "4th to 8th Backside       2\n",
            "8th                       2\n",
            "14                        2\n",
            "1st                       1\n",
            "5th                       1\n",
            "1F                        1\n",
            "18                        1\n",
            "17                        1\n",
            "A1,A2,A3,A4,A5,A6,A7      1\n",
            "G+7                       1\n",
            "0+7                       1\n",
            "Name: count, dtype: int64\n",
            "Possible value an doccurence for Occupancy_status variable are :\n",
            "Occupancy_status\n",
            "vacant              3763\n",
            "occupied               3\n",
            "Name: count, dtype: int64\n",
            "Possible value an doccurence for Floor_area variable are :\n",
            "Floor_area\n",
            "2160.0        233\n",
            "3600.0        190\n",
            "1300.0         99\n",
            "1500.0         95\n",
            "1250.0         78\n",
            "             ... \n",
            "1452.0          1\n",
            "1451.0          1\n",
            "1431.0          1\n",
            "1423.0          1\n",
            "195840.0        1\n",
            "Name: count, Length: 668, dtype: int64\n",
            "Possible value an doccurence for City variable are :\n",
            "City            \n",
            "dhaka               1650\n",
            "chattogram          1470\n",
            "narayanganj-city     420\n",
            "gazipur              180\n",
            "cumilla              145\n",
            "Name: count, dtype: int64\n",
            "Possible value an doccurence for Price_in_taka variable are :\n",
            "Price_in_taka\n",
            "৳4,575,000       177\n",
            "৳7,625,000       120\n",
            "৳6,000,000       105\n",
            "৳6,500,000        98\n",
            "৳5,000,000        94\n",
            "                ... \n",
            "৳21,800,000        1\n",
            "৳210,870,000       1\n",
            "৳5,805,000         1\n",
            "৳22,100,000        1\n",
            "৳4,445,000         1\n",
            "Name: count, Length: 702, dtype: int64\n"
          ]
        }
      ],
      "source": [
        "# We look at the values of each column\n",
        "variables_list = df[[\"Bedrooms\",\"Bathrooms\", \"Floor_no\", \"Occupancy_status\", \"Floor_area\", \"City\", \"Price_in_taka\"]]\n",
        "for value in variables_list:\n",
        "    print(f'Possible value an doccurence for {value} variable are :')\n",
        "    print(df[[value]].value_counts())"
      ]
    },
    {
      "cell_type": "markdown",
      "metadata": {
        "id": "mBHvZLKioCFE"
      },
      "source": [
        "**==> We need to clean Floor_no and Price_in_taka.**"
      ]
    },
    {
      "cell_type": "code",
      "execution_count": null,
      "metadata": {
        "id": "wNoTNspLFGSZ",
        "colab": {
          "base_uri": "https://localhost:8080/",
          "height": 362
        },
        "outputId": "22fcc43f-c57e-4b30-d541-7ee94d6fc871"
      },
      "outputs": [
        {
          "output_type": "execute_result",
          "data": {
            "text/plain": [
              "Title                  0\n",
              "Bedrooms            1001\n",
              "Bathrooms           1001\n",
              "Floor_no             684\n",
              "Occupancy_status      99\n",
              "Floor_area            99\n",
              "City                   0\n",
              "Price_in_taka          0\n",
              "Location               6\n",
              "dtype: int64"
            ],
            "text/html": [
              "<div>\n",
              "<style scoped>\n",
              "    .dataframe tbody tr th:only-of-type {\n",
              "        vertical-align: middle;\n",
              "    }\n",
              "\n",
              "    .dataframe tbody tr th {\n",
              "        vertical-align: top;\n",
              "    }\n",
              "\n",
              "    .dataframe thead th {\n",
              "        text-align: right;\n",
              "    }\n",
              "</style>\n",
              "<table border=\"1\" class=\"dataframe\">\n",
              "  <thead>\n",
              "    <tr style=\"text-align: right;\">\n",
              "      <th></th>\n",
              "      <th>0</th>\n",
              "    </tr>\n",
              "  </thead>\n",
              "  <tbody>\n",
              "    <tr>\n",
              "      <th>Title</th>\n",
              "      <td>0</td>\n",
              "    </tr>\n",
              "    <tr>\n",
              "      <th>Bedrooms</th>\n",
              "      <td>1001</td>\n",
              "    </tr>\n",
              "    <tr>\n",
              "      <th>Bathrooms</th>\n",
              "      <td>1001</td>\n",
              "    </tr>\n",
              "    <tr>\n",
              "      <th>Floor_no</th>\n",
              "      <td>684</td>\n",
              "    </tr>\n",
              "    <tr>\n",
              "      <th>Occupancy_status</th>\n",
              "      <td>99</td>\n",
              "    </tr>\n",
              "    <tr>\n",
              "      <th>Floor_area</th>\n",
              "      <td>99</td>\n",
              "    </tr>\n",
              "    <tr>\n",
              "      <th>City</th>\n",
              "      <td>0</td>\n",
              "    </tr>\n",
              "    <tr>\n",
              "      <th>Price_in_taka</th>\n",
              "      <td>0</td>\n",
              "    </tr>\n",
              "    <tr>\n",
              "      <th>Location</th>\n",
              "      <td>6</td>\n",
              "    </tr>\n",
              "  </tbody>\n",
              "</table>\n",
              "</div><br><label><b>dtype:</b> int64</label>"
            ]
          },
          "metadata": {},
          "execution_count": 13
        }
      ],
      "source": [
        "# We checked missing data\n",
        "df.isnull().sum()"
      ]
    },
    {
      "cell_type": "code",
      "execution_count": null,
      "metadata": {
        "id": "szTD1ZK2Ru_k",
        "colab": {
          "base_uri": "https://localhost:8080/"
        },
        "outputId": "997f6a12-50b5-4bbd-a038-5b8d3509ffc9"
      },
      "outputs": [
        {
          "output_type": "execute_result",
          "data": {
            "text/plain": [
              "934"
            ]
          },
          "metadata": {},
          "execution_count": 14
        }
      ],
      "source": [
        "# We checked duplicates\n",
        "df.duplicated().sum()"
      ]
    },
    {
      "cell_type": "code",
      "execution_count": null,
      "metadata": {
        "id": "52G8CzZ_PUOn",
        "colab": {
          "base_uri": "https://localhost:8080/",
          "height": 204
        },
        "outputId": "037b04ab-e46a-45d3-e0ef-44a53beb5ad6"
      },
      "outputs": [
        {
          "output_type": "execute_result",
          "data": {
            "text/plain": [
              "     Bedrooms  Bathrooms Floor_no Occupancy_status  Floor_area   City  \\\n",
              "214         3          3        8           vacant        1100  dhaka   \n",
              "215         3          2        2           vacant        1220  dhaka   \n",
              "216         3          3        5           vacant        1240  dhaka   \n",
              "217         3          3        5           vacant        1700  dhaka   \n",
              "218         3          3        1           vacant        1400  dhaka   \n",
              "\n",
              "     Price_in_taka  \n",
              "214      4700000.0  \n",
              "215      5000000.0  \n",
              "216      7320000.0  \n",
              "217      6500000.0  \n",
              "218      8500000.0  "
            ],
            "text/html": [
              "\n",
              "  <div id=\"df-5d1ccec5-4059-4106-943a-c49e31154a53\" class=\"colab-df-container\">\n",
              "    <div>\n",
              "<style scoped>\n",
              "    .dataframe tbody tr th:only-of-type {\n",
              "        vertical-align: middle;\n",
              "    }\n",
              "\n",
              "    .dataframe tbody tr th {\n",
              "        vertical-align: top;\n",
              "    }\n",
              "\n",
              "    .dataframe thead th {\n",
              "        text-align: right;\n",
              "    }\n",
              "</style>\n",
              "<table border=\"1\" class=\"dataframe\">\n",
              "  <thead>\n",
              "    <tr style=\"text-align: right;\">\n",
              "      <th></th>\n",
              "      <th>Bedrooms</th>\n",
              "      <th>Bathrooms</th>\n",
              "      <th>Floor_no</th>\n",
              "      <th>Occupancy_status</th>\n",
              "      <th>Floor_area</th>\n",
              "      <th>City</th>\n",
              "      <th>Price_in_taka</th>\n",
              "    </tr>\n",
              "  </thead>\n",
              "  <tbody>\n",
              "    <tr>\n",
              "      <th>214</th>\n",
              "      <td>3</td>\n",
              "      <td>3</td>\n",
              "      <td>8</td>\n",
              "      <td>vacant</td>\n",
              "      <td>1100</td>\n",
              "      <td>dhaka</td>\n",
              "      <td>4700000.0</td>\n",
              "    </tr>\n",
              "    <tr>\n",
              "      <th>215</th>\n",
              "      <td>3</td>\n",
              "      <td>2</td>\n",
              "      <td>2</td>\n",
              "      <td>vacant</td>\n",
              "      <td>1220</td>\n",
              "      <td>dhaka</td>\n",
              "      <td>5000000.0</td>\n",
              "    </tr>\n",
              "    <tr>\n",
              "      <th>216</th>\n",
              "      <td>3</td>\n",
              "      <td>3</td>\n",
              "      <td>5</td>\n",
              "      <td>vacant</td>\n",
              "      <td>1240</td>\n",
              "      <td>dhaka</td>\n",
              "      <td>7320000.0</td>\n",
              "    </tr>\n",
              "    <tr>\n",
              "      <th>217</th>\n",
              "      <td>3</td>\n",
              "      <td>3</td>\n",
              "      <td>5</td>\n",
              "      <td>vacant</td>\n",
              "      <td>1700</td>\n",
              "      <td>dhaka</td>\n",
              "      <td>6500000.0</td>\n",
              "    </tr>\n",
              "    <tr>\n",
              "      <th>218</th>\n",
              "      <td>3</td>\n",
              "      <td>3</td>\n",
              "      <td>1</td>\n",
              "      <td>vacant</td>\n",
              "      <td>1400</td>\n",
              "      <td>dhaka</td>\n",
              "      <td>8500000.0</td>\n",
              "    </tr>\n",
              "  </tbody>\n",
              "</table>\n",
              "</div>\n",
              "    <div class=\"colab-df-buttons\">\n",
              "\n",
              "  <div class=\"colab-df-container\">\n",
              "    <button class=\"colab-df-convert\" onclick=\"convertToInteractive('df-5d1ccec5-4059-4106-943a-c49e31154a53')\"\n",
              "            title=\"Convert this dataframe to an interactive table.\"\n",
              "            style=\"display:none;\">\n",
              "\n",
              "  <svg xmlns=\"http://www.w3.org/2000/svg\" height=\"24px\" viewBox=\"0 -960 960 960\">\n",
              "    <path d=\"M120-120v-720h720v720H120Zm60-500h600v-160H180v160Zm220 220h160v-160H400v160Zm0 220h160v-160H400v160ZM180-400h160v-160H180v160Zm440 0h160v-160H620v160ZM180-180h160v-160H180v160Zm440 0h160v-160H620v160Z\"/>\n",
              "  </svg>\n",
              "    </button>\n",
              "\n",
              "  <style>\n",
              "    .colab-df-container {\n",
              "      display:flex;\n",
              "      gap: 12px;\n",
              "    }\n",
              "\n",
              "    .colab-df-convert {\n",
              "      background-color: #E8F0FE;\n",
              "      border: none;\n",
              "      border-radius: 50%;\n",
              "      cursor: pointer;\n",
              "      display: none;\n",
              "      fill: #1967D2;\n",
              "      height: 32px;\n",
              "      padding: 0 0 0 0;\n",
              "      width: 32px;\n",
              "    }\n",
              "\n",
              "    .colab-df-convert:hover {\n",
              "      background-color: #E2EBFA;\n",
              "      box-shadow: 0px 1px 2px rgba(60, 64, 67, 0.3), 0px 1px 3px 1px rgba(60, 64, 67, 0.15);\n",
              "      fill: #174EA6;\n",
              "    }\n",
              "\n",
              "    .colab-df-buttons div {\n",
              "      margin-bottom: 4px;\n",
              "    }\n",
              "\n",
              "    [theme=dark] .colab-df-convert {\n",
              "      background-color: #3B4455;\n",
              "      fill: #D2E3FC;\n",
              "    }\n",
              "\n",
              "    [theme=dark] .colab-df-convert:hover {\n",
              "      background-color: #434B5C;\n",
              "      box-shadow: 0px 1px 3px 1px rgba(0, 0, 0, 0.15);\n",
              "      filter: drop-shadow(0px 1px 2px rgba(0, 0, 0, 0.3));\n",
              "      fill: #FFFFFF;\n",
              "    }\n",
              "  </style>\n",
              "\n",
              "    <script>\n",
              "      const buttonEl =\n",
              "        document.querySelector('#df-5d1ccec5-4059-4106-943a-c49e31154a53 button.colab-df-convert');\n",
              "      buttonEl.style.display =\n",
              "        google.colab.kernel.accessAllowed ? 'block' : 'none';\n",
              "\n",
              "      async function convertToInteractive(key) {\n",
              "        const element = document.querySelector('#df-5d1ccec5-4059-4106-943a-c49e31154a53');\n",
              "        const dataTable =\n",
              "          await google.colab.kernel.invokeFunction('convertToInteractive',\n",
              "                                                    [key], {});\n",
              "        if (!dataTable) return;\n",
              "\n",
              "        const docLinkHtml = 'Like what you see? Visit the ' +\n",
              "          '<a target=\"_blank\" href=https://colab.research.google.com/notebooks/data_table.ipynb>data table notebook</a>'\n",
              "          + ' to learn more about interactive tables.';\n",
              "        element.innerHTML = '';\n",
              "        dataTable['output_type'] = 'display_data';\n",
              "        await google.colab.output.renderOutput(dataTable, element);\n",
              "        const docLink = document.createElement('div');\n",
              "        docLink.innerHTML = docLinkHtml;\n",
              "        element.appendChild(docLink);\n",
              "      }\n",
              "    </script>\n",
              "  </div>\n",
              "\n",
              "\n",
              "<div id=\"df-a09bfc65-c42d-43fe-85a4-65e479aca0b3\">\n",
              "  <button class=\"colab-df-quickchart\" onclick=\"quickchart('df-a09bfc65-c42d-43fe-85a4-65e479aca0b3')\"\n",
              "            title=\"Suggest charts\"\n",
              "            style=\"display:none;\">\n",
              "\n",
              "<svg xmlns=\"http://www.w3.org/2000/svg\" height=\"24px\"viewBox=\"0 0 24 24\"\n",
              "     width=\"24px\">\n",
              "    <g>\n",
              "        <path d=\"M19 3H5c-1.1 0-2 .9-2 2v14c0 1.1.9 2 2 2h14c1.1 0 2-.9 2-2V5c0-1.1-.9-2-2-2zM9 17H7v-7h2v7zm4 0h-2V7h2v10zm4 0h-2v-4h2v4z\"/>\n",
              "    </g>\n",
              "</svg>\n",
              "  </button>\n",
              "\n",
              "<style>\n",
              "  .colab-df-quickchart {\n",
              "      --bg-color: #E8F0FE;\n",
              "      --fill-color: #1967D2;\n",
              "      --hover-bg-color: #E2EBFA;\n",
              "      --hover-fill-color: #174EA6;\n",
              "      --disabled-fill-color: #AAA;\n",
              "      --disabled-bg-color: #DDD;\n",
              "  }\n",
              "\n",
              "  [theme=dark] .colab-df-quickchart {\n",
              "      --bg-color: #3B4455;\n",
              "      --fill-color: #D2E3FC;\n",
              "      --hover-bg-color: #434B5C;\n",
              "      --hover-fill-color: #FFFFFF;\n",
              "      --disabled-bg-color: #3B4455;\n",
              "      --disabled-fill-color: #666;\n",
              "  }\n",
              "\n",
              "  .colab-df-quickchart {\n",
              "    background-color: var(--bg-color);\n",
              "    border: none;\n",
              "    border-radius: 50%;\n",
              "    cursor: pointer;\n",
              "    display: none;\n",
              "    fill: var(--fill-color);\n",
              "    height: 32px;\n",
              "    padding: 0;\n",
              "    width: 32px;\n",
              "  }\n",
              "\n",
              "  .colab-df-quickchart:hover {\n",
              "    background-color: var(--hover-bg-color);\n",
              "    box-shadow: 0 1px 2px rgba(60, 64, 67, 0.3), 0 1px 3px 1px rgba(60, 64, 67, 0.15);\n",
              "    fill: var(--button-hover-fill-color);\n",
              "  }\n",
              "\n",
              "  .colab-df-quickchart-complete:disabled,\n",
              "  .colab-df-quickchart-complete:disabled:hover {\n",
              "    background-color: var(--disabled-bg-color);\n",
              "    fill: var(--disabled-fill-color);\n",
              "    box-shadow: none;\n",
              "  }\n",
              "\n",
              "  .colab-df-spinner {\n",
              "    border: 2px solid var(--fill-color);\n",
              "    border-color: transparent;\n",
              "    border-bottom-color: var(--fill-color);\n",
              "    animation:\n",
              "      spin 1s steps(1) infinite;\n",
              "  }\n",
              "\n",
              "  @keyframes spin {\n",
              "    0% {\n",
              "      border-color: transparent;\n",
              "      border-bottom-color: var(--fill-color);\n",
              "      border-left-color: var(--fill-color);\n",
              "    }\n",
              "    20% {\n",
              "      border-color: transparent;\n",
              "      border-left-color: var(--fill-color);\n",
              "      border-top-color: var(--fill-color);\n",
              "    }\n",
              "    30% {\n",
              "      border-color: transparent;\n",
              "      border-left-color: var(--fill-color);\n",
              "      border-top-color: var(--fill-color);\n",
              "      border-right-color: var(--fill-color);\n",
              "    }\n",
              "    40% {\n",
              "      border-color: transparent;\n",
              "      border-right-color: var(--fill-color);\n",
              "      border-top-color: var(--fill-color);\n",
              "    }\n",
              "    60% {\n",
              "      border-color: transparent;\n",
              "      border-right-color: var(--fill-color);\n",
              "    }\n",
              "    80% {\n",
              "      border-color: transparent;\n",
              "      border-right-color: var(--fill-color);\n",
              "      border-bottom-color: var(--fill-color);\n",
              "    }\n",
              "    90% {\n",
              "      border-color: transparent;\n",
              "      border-bottom-color: var(--fill-color);\n",
              "    }\n",
              "  }\n",
              "</style>\n",
              "\n",
              "  <script>\n",
              "    async function quickchart(key) {\n",
              "      const quickchartButtonEl =\n",
              "        document.querySelector('#' + key + ' button');\n",
              "      quickchartButtonEl.disabled = true;  // To prevent multiple clicks.\n",
              "      quickchartButtonEl.classList.add('colab-df-spinner');\n",
              "      try {\n",
              "        const charts = await google.colab.kernel.invokeFunction(\n",
              "            'suggestCharts', [key], {});\n",
              "      } catch (error) {\n",
              "        console.error('Error during call to suggestCharts:', error);\n",
              "      }\n",
              "      quickchartButtonEl.classList.remove('colab-df-spinner');\n",
              "      quickchartButtonEl.classList.add('colab-df-quickchart-complete');\n",
              "    }\n",
              "    (() => {\n",
              "      let quickchartButtonEl =\n",
              "        document.querySelector('#df-a09bfc65-c42d-43fe-85a4-65e479aca0b3 button');\n",
              "      quickchartButtonEl.style.display =\n",
              "        google.colab.kernel.accessAllowed ? 'block' : 'none';\n",
              "    })();\n",
              "  </script>\n",
              "</div>\n",
              "\n",
              "    </div>\n",
              "  </div>\n"
            ],
            "application/vnd.google.colaboratory.intrinsic+json": {
              "type": "dataframe",
              "variable_name": "df",
              "summary": "{\n  \"name\": \"df\",\n  \"rows\": 1890,\n  \"fields\": [\n    {\n      \"column\": \"Bedrooms\",\n      \"properties\": {\n        \"dtype\": \"number\",\n        \"std\": 0,\n        \"min\": 1,\n        \"max\": 3,\n        \"num_unique_values\": 3,\n        \"samples\": [\n          3,\n          2,\n          1\n        ],\n        \"semantic_type\": \"\",\n        \"description\": \"\"\n      }\n    },\n    {\n      \"column\": \"Bathrooms\",\n      \"properties\": {\n        \"dtype\": \"number\",\n        \"std\": 0,\n        \"min\": 1,\n        \"max\": 4,\n        \"num_unique_values\": 4,\n        \"samples\": [\n          2,\n          1,\n          3\n        ],\n        \"semantic_type\": \"\",\n        \"description\": \"\"\n      }\n    },\n    {\n      \"column\": \"Floor_no\",\n      \"properties\": {\n        \"dtype\": \"category\",\n        \"num_unique_values\": 15,\n        \"samples\": [\n          \"12\",\n          \"11\",\n          \"8\"\n        ],\n        \"semantic_type\": \"\",\n        \"description\": \"\"\n      }\n    },\n    {\n      \"column\": \"Occupancy_status\",\n      \"properties\": {\n        \"dtype\": \"category\",\n        \"num_unique_values\": 2,\n        \"samples\": [\n          \"occupied\",\n          \"vacant\"\n        ],\n        \"semantic_type\": \"\",\n        \"description\": \"\"\n      }\n    },\n    {\n      \"column\": \"Floor_area\",\n      \"properties\": {\n        \"dtype\": \"number\",\n        \"std\": 331,\n        \"min\": 250,\n        \"max\": 2961,\n        \"num_unique_values\": 435,\n        \"samples\": [\n          1452,\n          1970\n        ],\n        \"semantic_type\": \"\",\n        \"description\": \"\"\n      }\n    },\n    {\n      \"column\": \"City\",\n      \"properties\": {\n        \"dtype\": \"category\",\n        \"num_unique_values\": 5,\n        \"samples\": [\n          \"chattogram\",\n          \"gazipur\"\n        ],\n        \"semantic_type\": \"\",\n        \"description\": \"\"\n      }\n    },\n    {\n      \"column\": \"Price_in_taka\",\n      \"properties\": {\n        \"dtype\": \"number\",\n        \"std\": 5145902.238911841,\n        \"min\": 1760000.0,\n        \"max\": 67500000.0,\n        \"num_unique_values\": 476,\n        \"samples\": [\n          4960000.0,\n          8300000.0\n        ],\n        \"semantic_type\": \"\",\n        \"description\": \"\"\n      }\n    }\n  ]\n}"
            }
          },
          "metadata": {},
          "execution_count": 15
        }
      ],
      "source": [
        "# Remove duplicates\n",
        "df = df.drop_duplicates(keep='last')\n",
        "\n",
        "# \"Title\" and \"Location\" column drop\n",
        "df = df.drop([\"Title\", \"Location\"], axis=1)\n",
        "\n",
        "# Delete rows in [8th,4th to 8th Backside,A1,A2,A3,A4,A5,A6,A7,0+7,5th,1st,1F,G+7] corresponding to full building\n",
        "floor_to_remove = [\"Merin City - Purbach\", \"4th to 8th Backside\", \"G+7\", \"0+7\",\"A1,A2,A3,A4,A5,A6,A7\"]\n",
        "df = df[~df[\"Floor_no\"].isin(floor_to_remove)]\n",
        "\n",
        "# Replace 8th, 1st, 1F, 5th\n",
        "df.loc[df[\"Floor_no\"] == \"8th\", \"Floor_no\"] = 8\n",
        "df.loc[df[\"Floor_no\"] == \"1st\", \"Floor_no\"] = 1\n",
        "df.loc[df[\"Floor_no\"] == \"1F\", \"Floor_no\"] = 1\n",
        "df.loc[df[\"Floor_no\"] == \"5th\", \"Floor_no\"] = 5\n",
        "\n",
        "# Remove rows where both Bedrooms and Bathrooms are null and switch to int because we consider it as residential plots or/and commercial units\n",
        "df = df[(df[\"Bedrooms\"].notnull()) | (df[\"Bathrooms\"].notnull())]\n",
        "df = df[(df[\"Floor_no\"].notnull())]\n",
        "df[\"Bedrooms\"] = df[\"Bedrooms\"].astype(int)\n",
        "df[\"Bathrooms\"] = df[\"Bathrooms\"].astype(int)\n",
        "df[\"Floor_area\"] = df[\"Floor_area\"].astype(int)\n",
        "df[\"Floor_no\"] = df[\"Floor_no\"].astype(str)\n",
        "\n",
        "# Remove rows where 200 > Floor_area > 3000, Bedrooms > 6, and Bathrooms > 6 as we consider them as Outliers\n",
        "df = df[(df[\"Floor_area\"] > 200) & (df[\"Floor_area\"] <= 3000)]\n",
        "df = df[df['Bedrooms'] < 4]\n",
        "df = df[df['Bathrooms'] < 5]\n",
        "\n",
        "# Price column to remove ৳ and convert \"Price_in_taka\" column into float64\n",
        "df[\"Price_in_taka\"] = df[\"Price_in_taka\"].apply(lambda x: x.replace(\"৳\", \"\").replace(\",\", \"\"))\n",
        "df[\"Price_in_taka\"] = df[\"Price_in_taka\"].astype(np.float64)\n",
        "\n",
        "# Check cleaned dataset\n",
        "df.head()"
      ]
    },
    {
      "cell_type": "code",
      "execution_count": null,
      "metadata": {
        "id": "Uw5NkZ_CR3iD",
        "colab": {
          "base_uri": "https://localhost:8080/"
        },
        "outputId": "5f1aa73c-05fe-4a80-e7a2-ecb26444b491"
      },
      "outputs": [
        {
          "output_type": "execute_result",
          "data": {
            "text/plain": [
              "140"
            ]
          },
          "metadata": {},
          "execution_count": 16
        }
      ],
      "source": [
        "# Check duplicates\n",
        "df.duplicated().sum()"
      ]
    },
    {
      "cell_type": "code",
      "execution_count": null,
      "metadata": {
        "id": "DkeqW_2qndCH",
        "colab": {
          "base_uri": "https://localhost:8080/"
        },
        "outputId": "0506c9e3-22c4-4ac5-96ab-b2b4262272ee"
      },
      "outputs": [
        {
          "output_type": "stream",
          "name": "stdout",
          "text": [
            "Possible value an doccurence for Bedrooms variable are :\n",
            "Bedrooms\n",
            "3           1598\n",
            "2            290\n",
            "1              2\n",
            "Name: count, dtype: int64\n",
            "Possible value an doccurence for Bathrooms variable are :\n",
            "Bathrooms\n",
            "3            1293\n",
            "2             461\n",
            "4             121\n",
            "1              15\n",
            "Name: count, dtype: int64\n",
            "Possible value an doccurence for Floor_no variable are :\n",
            "Floor_no\n",
            "1           263\n",
            "5           240\n",
            "4           232\n",
            "6           230\n",
            "3           220\n",
            "2           213\n",
            "7           179\n",
            "8           167\n",
            "9           102\n",
            "10           14\n",
            "11           13\n",
            "12            9\n",
            "13            6\n",
            "14            1\n",
            "17            1\n",
            "Name: count, dtype: int64\n",
            "Possible value an doccurence for Floor_area variable are :\n",
            "Floor_area\n",
            "1300          69\n",
            "1500          63\n",
            "1200          58\n",
            "1350          56\n",
            "1250          54\n",
            "              ..\n",
            "1322           1\n",
            "1327           1\n",
            "1338           1\n",
            "1348           1\n",
            "2961           1\n",
            "Name: count, Length: 435, dtype: int64\n",
            "Possible value an doccurence for City variable are :\n",
            "City            \n",
            "dhaka               859\n",
            "chattogram          770\n",
            "cumilla             129\n",
            "gazipur             127\n",
            "narayanganj-city      5\n",
            "Name: count, dtype: int64\n",
            "Possible value an doccurence for Occupancy_status variable are :\n",
            "Occupancy_status\n",
            "vacant              1888\n",
            "occupied               2\n",
            "Name: count, dtype: int64\n"
          ]
        }
      ],
      "source": [
        "# Data clean check\n",
        "variables_list = df[[\"Bedrooms\",\"Bathrooms\", \"Floor_no\", \"Floor_area\", \"City\", \"Occupancy_status\"]]\n",
        "for value in variables_list:\n",
        "    print(f'Possible value an doccurence for {value} variable are :')\n",
        "    print(df[[value]].value_counts())"
      ]
    },
    {
      "cell_type": "code",
      "execution_count": null,
      "metadata": {
        "id": "IaakQI4louon",
        "colab": {
          "base_uri": "https://localhost:8080/",
          "height": 300
        },
        "outputId": "445e874a-1861-4d5e-975b-46af113e1389"
      },
      "outputs": [
        {
          "output_type": "execute_result",
          "data": {
            "text/plain": [
              "Bedrooms            0\n",
              "Bathrooms           0\n",
              "Floor_no            0\n",
              "Occupancy_status    0\n",
              "Floor_area          0\n",
              "City                0\n",
              "Price_in_taka       0\n",
              "dtype: int64"
            ],
            "text/html": [
              "<div>\n",
              "<style scoped>\n",
              "    .dataframe tbody tr th:only-of-type {\n",
              "        vertical-align: middle;\n",
              "    }\n",
              "\n",
              "    .dataframe tbody tr th {\n",
              "        vertical-align: top;\n",
              "    }\n",
              "\n",
              "    .dataframe thead th {\n",
              "        text-align: right;\n",
              "    }\n",
              "</style>\n",
              "<table border=\"1\" class=\"dataframe\">\n",
              "  <thead>\n",
              "    <tr style=\"text-align: right;\">\n",
              "      <th></th>\n",
              "      <th>0</th>\n",
              "    </tr>\n",
              "  </thead>\n",
              "  <tbody>\n",
              "    <tr>\n",
              "      <th>Bedrooms</th>\n",
              "      <td>0</td>\n",
              "    </tr>\n",
              "    <tr>\n",
              "      <th>Bathrooms</th>\n",
              "      <td>0</td>\n",
              "    </tr>\n",
              "    <tr>\n",
              "      <th>Floor_no</th>\n",
              "      <td>0</td>\n",
              "    </tr>\n",
              "    <tr>\n",
              "      <th>Occupancy_status</th>\n",
              "      <td>0</td>\n",
              "    </tr>\n",
              "    <tr>\n",
              "      <th>Floor_area</th>\n",
              "      <td>0</td>\n",
              "    </tr>\n",
              "    <tr>\n",
              "      <th>City</th>\n",
              "      <td>0</td>\n",
              "    </tr>\n",
              "    <tr>\n",
              "      <th>Price_in_taka</th>\n",
              "      <td>0</td>\n",
              "    </tr>\n",
              "  </tbody>\n",
              "</table>\n",
              "</div><br><label><b>dtype:</b> int64</label>"
            ]
          },
          "metadata": {},
          "execution_count": 18
        }
      ],
      "source": [
        "# Check missing data\n",
        "df.isnull().sum()"
      ]
    },
    {
      "cell_type": "markdown",
      "metadata": {
        "id": "azYnLZ_PQB4N"
      },
      "source": [
        "## EDA"
      ]
    },
    {
      "cell_type": "code",
      "execution_count": null,
      "metadata": {
        "id": "PP8GBgGSQZZF",
        "colab": {
          "base_uri": "https://localhost:8080/"
        },
        "outputId": "05c2e1e3-4a1d-4b67-b945-3d74e5f98c5c"
      },
      "outputs": [
        {
          "output_type": "stream",
          "name": "stdout",
          "text": [
            "<class 'pandas.core.frame.DataFrame'>\n",
            "Index: 1890 entries, 214 to 3864\n",
            "Data columns (total 7 columns):\n",
            " #   Column            Non-Null Count  Dtype  \n",
            "---  ------            --------------  -----  \n",
            " 0   Bedrooms          1890 non-null   int64  \n",
            " 1   Bathrooms         1890 non-null   int64  \n",
            " 2   Floor_no          1890 non-null   object \n",
            " 3   Occupancy_status  1890 non-null   object \n",
            " 4   Floor_area        1890 non-null   int64  \n",
            " 5   City              1890 non-null   object \n",
            " 6   Price_in_taka     1890 non-null   float64\n",
            "dtypes: float64(1), int64(3), object(3)\n",
            "memory usage: 118.1+ KB\n"
          ]
        }
      ],
      "source": [
        "df.info()"
      ]
    },
    {
      "cell_type": "code",
      "execution_count": null,
      "metadata": {
        "id": "K6bzNcOS-37p",
        "colab": {
          "base_uri": "https://localhost:8080/",
          "height": 506
        },
        "outputId": "cf3176e9-0507-4c59-afdf-e84f8b2bd151"
      },
      "outputs": [
        {
          "output_type": "display_data",
          "data": {
            "text/plain": [
              "<Figure size 511.111x500 with 1 Axes>"
            ],
            "image/png": "[encoded data removed]"
          },
          "metadata": {}
        }
      ],
      "source": [
        "'''df_sorted = df.sort_values(by='Price_in_taka', ascending=False)\n",
        "sns.catplot(x=\"City\", y=\"Price_in_taka\",data=df_sorted, kind=\"bar\")'''\n",
        "\n",
        "df_sorted = df.sort_values(by='Price_in_taka', ascending=False)\n",
        "g = sns.catplot(x=\"City\", y=\"Price_in_taka\",data=df_sorted, kind=\"bar\")\n",
        "g.set_xticklabels(rotation=45, ha='right')  # Rotation des étiquettes\n",
        "plt.tight_layout()  # Ajustement automatique des éléments\n",
        "plt.show()"
      ]
    },
    {
      "cell_type": "code",
      "execution_count": null,
      "metadata": {
        "id": "S8zUrsh2_BST",
        "colab": {
          "base_uri": "https://localhost:8080/",
          "height": 472
        },
        "outputId": "0d294a15-cd9d-46f7-84dd-196848b2bc9b"
      },
      "outputs": [
        {
          "output_type": "display_data",
          "data": {
            "text/plain": [
              "<Figure size 640x480 with 1 Axes>"
            ],
            "image/png": "[encoded data removed]"
          },
          "metadata": {}
        }
      ],
      "source": [
        "# Scatterplot with a Trend Line\n",
        "sns.regplot(x=\"Floor_area\", y=\"Price_in_taka\", scatter=True, color=\"#42A5F5\", line_kws={'color':'blue'}, data=df)\n",
        "\n",
        "# Add Labels and Title\n",
        "plt.xlabel('Floor Area')\n",
        "plt.ylabel('Price')\n",
        "plt.title('Scatterplot avec une courbe de tendance')\n",
        "\n",
        "# Display graph\n",
        "plt.show()"
      ]
    },
    {
      "cell_type": "markdown",
      "metadata": {
        "id": "yhDay5g5yME7"
      },
      "source": [
        "# **Machine Learning**"
      ]
    },
    {
      "cell_type": "markdown",
      "metadata": {
        "id": "6oeBTOxGP9VF"
      },
      "source": [
        "## Preprocessing 🍳"
      ]
    },
    {
      "cell_type": "code",
      "execution_count": null,
      "metadata": {
        "id": "8F7TusRRGP8J",
        "colab": {
          "base_uri": "https://localhost:8080/"
        },
        "outputId": "7223f819-d7af-476c-df07-c3ddb92fc0e5"
      },
      "outputs": [
        {
          "output_type": "stream",
          "name": "stdout",
          "text": [
            "Separating target variable from features...\n",
            "...Done.\n"
          ]
        }
      ],
      "source": [
        "# Separate target variable Y from features X\n",
        "print(\"Separating target variable from features...\")\n",
        "\n",
        "# Choose the columns we want to have as our features\n",
        "features_list = [\"Bedrooms\",\"Bathrooms\",\"Floor_no\",\"Floor_area\",\"City\", \"Occupancy_status\"]\n",
        "\n",
        "# We add feature_list into our loc\n",
        "X = df.loc[:,features_list]\n",
        "\n",
        "# We set \"Price_in_taka\" as the target variable\n",
        "y = df.loc[:,\"Price_in_taka\"]\n",
        "\n",
        "print(\"...Done.\")"
      ]
    },
    {
      "cell_type": "code",
      "execution_count": null,
      "metadata": {
        "id": "s95_sG9xGP8J",
        "colab": {
          "base_uri": "https://localhost:8080/"
        },
        "outputId": "bcbc104d-4b31-46f1-8998-66496ef83bf7"
      },
      "outputs": [
        {
          "output_type": "stream",
          "name": "stdout",
          "text": [
            "Splitting dataset into train set and test set...\n",
            "...Done.\n"
          ]
        }
      ],
      "source": [
        "# Divide dataset Train set & Test set\n",
        "print(\"Splitting dataset into train set and test set...\")\n",
        "\n",
        "# Then we use train_test_split\n",
        "X_train, X_test, y_train, y_test = train_test_split(X, y,\n",
        "                                                    test_size=0.2,\n",
        "                                                    random_state=0)\n",
        "\n",
        "print(\"...Done.\")"
      ]
    },
    {
      "cell_type": "code",
      "execution_count": null,
      "metadata": {
        "id": "8nIrg8HKarBE",
        "colab": {
          "base_uri": "https://localhost:8080/"
        },
        "outputId": "80d03d4f-d6d4-42cb-f39f-e739df6aed23"
      },
      "outputs": [
        {
          "output_type": "stream",
          "name": "stdout",
          "text": [
            "--- Training pipeline ---\n",
            "\n",
            "#### X_train BEFORE preprocessing ####\n",
            "      Bedrooms  Bathrooms Floor_no  Floor_area        City Occupancy_status\n",
            "2861         3          3        7        1537  chattogram           vacant\n",
            "3745         3          2        6         950     gazipur           vacant\n",
            "1284         3          3        5        1545       dhaka           vacant\n",
            "2393         3          3        5        2200  chattogram           vacant\n",
            "2373         3          3        6        1302  chattogram           vacant\n",
            "\n"
          ]
        }
      ],
      "source": [
        "### Training pipeline ###\n",
        "print(\"--- Training pipeline ---\")\n",
        "print()\n",
        "\n",
        "# Encoding categorical features and standardizing numeric features\n",
        "print(\"#### X_train BEFORE preprocessing ####\")\n",
        "print(X_train.head())\n",
        "print()"
      ]
    },
    {
      "cell_type": "code",
      "execution_count": null,
      "metadata": {
        "id": "uu6AVDBZLYkc",
        "colab": {
          "base_uri": "https://localhost:8080/"
        },
        "outputId": "71dfa043-e3ef-407a-bc5f-505b499de4d2"
      },
      "outputs": [
        {
          "output_type": "stream",
          "name": "stdout",
          "text": [
            "Index(['Floor_no', 'City', 'Occupancy_status'], dtype='object')\n"
          ]
        }
      ],
      "source": [
        "categorical_column = X.select_dtypes(object).columns\n",
        "print(categorical_column)"
      ]
    },
    {
      "cell_type": "markdown",
      "metadata": {
        "id": "4DGvngTYLq47"
      },
      "source": []
    },
    {
      "cell_type": "code",
      "execution_count": null,
      "metadata": {
        "id": "6qOqiLX7SaXm",
        "colab": {
          "base_uri": "https://localhost:8080/"
        },
        "outputId": "d47790fa-0b15-4863-d9ad-d657c8269df4"
      },
      "outputs": [
        {
          "output_type": "stream",
          "name": "stdout",
          "text": [
            "Encoding categorical features and standardizing numerical features...\n"
          ]
        }
      ],
      "source": [
        "print(\"Encoding categorical features and standardizing numerical features...\")\n",
        "\n",
        "## StandardScaler to scale data (i.e apply Z-score)\n",
        "## OneHotEncoder to encode categorical variables\n",
        "\n",
        "numerical_column = X.select_dtypes(np.number).columns\n",
        "categorical_column = X.select_dtypes(object).columns\n",
        "\n",
        "numeric_transformer = StandardScaler()\n",
        "categorical_transformer = OneHotEncoder(handle_unknown='ignore') #"
      ]
    },
    {
      "cell_type": "code",
      "execution_count": null,
      "metadata": {
        "id": "8yROI4cFSaRe",
        "colab": {
          "base_uri": "https://localhost:8080/"
        },
        "outputId": "2f82e23c-483c-4198-ec3e-233a50a98709"
      },
      "outputs": [
        {
          "output_type": "stream",
          "name": "stdout",
          "text": [
            "...Done.\n",
            "#### X_train AFTER preprocessing ####\n"
          ]
        }
      ],
      "source": [
        "# Apply ColumnTransformer to create a pipeline that will apply the above preprocessing\n",
        "feature_encoder = ColumnTransformer(\n",
        "    transformers=[\n",
        "        ('cat', categorical_transformer, categorical_column),\n",
        "        ('num', numeric_transformer, numerical_column)\n",
        "        ]\n",
        "    )\n",
        "\n",
        "X_train = feature_encoder.fit_transform(X_train)\n",
        "print(\"...Done.\")\n",
        "print(\"#### X_train AFTER preprocessing ####\")\n"
      ]
    },
    {
      "cell_type": "code",
      "execution_count": null,
      "metadata": {
        "id": "sXRWcMO8GP8J",
        "colab": {
          "base_uri": "https://localhost:8080/"
        },
        "outputId": "bd3d8cbe-9ca7-4d61-ba91-7c8ba83ddc35"
      },
      "outputs": [
        {
          "output_type": "stream",
          "name": "stdout",
          "text": [
            "--- Testing pipeline ---\n",
            "Standardizing numerical features...\n",
            "...Done.\n"
          ]
        }
      ],
      "source": [
        "### Testing pipeline ###\n",
        "print(\"--- Testing pipeline ---\")\n",
        "\n",
        "# Standardizing numeric features\n",
        "print(\"Standardizing numerical features...\")\n",
        "\n",
        "X_test = feature_encoder.transform(X_test)\n",
        "\n",
        "print(\"...Done.\")"
      ]
    },
    {
      "cell_type": "markdown",
      "metadata": {
        "id": "f9ZQtfmFGP8K"
      },
      "source": [
        "## Build the model 🏋️‍♂️\n"
      ]
    },
    {
      "cell_type": "code",
      "execution_count": null,
      "metadata": {
        "id": "NO7teIuXGP8K",
        "colab": {
          "base_uri": "https://localhost:8080/"
        },
        "outputId": "c1c8d438-5a26-420f-fcac-e5c222cf549c"
      },
      "outputs": [
        {
          "output_type": "stream",
          "name": "stdout",
          "text": [
            "Train model...\n",
            "...Done.\n"
          ]
        }
      ],
      "source": [
        "# Train model\n",
        "print(\"Train model...\")\n",
        "regressor = LinearRegression()\n",
        "regressor.fit(X_train, y_train) # This steps is the actual training !\n",
        "print(\"...Done.\")"
      ]
    },
    {
      "cell_type": "code",
      "execution_count": null,
      "metadata": {
        "id": "lqYezMIZGP8K",
        "colab": {
          "base_uri": "https://localhost:8080/"
        },
        "outputId": "3f6e81cf-35ca-4f20-8894-a4d8b147a48f"
      },
      "outputs": [
        {
          "output_type": "stream",
          "name": "stdout",
          "text": [
            "Predictions on training set...\n",
            "...Done.\n"
          ]
        }
      ],
      "source": [
        "# Predictions on training set\n",
        "print(\"Predictions on training set...\")\n",
        "y_train_pred = regressor.predict(X_train)\n",
        "print(\"...Done.\")"
      ]
    },
    {
      "cell_type": "code",
      "execution_count": null,
      "metadata": {
        "id": "F2RlqIHPHNsx",
        "colab": {
          "base_uri": "https://localhost:8080/",
          "height": 300
        },
        "outputId": "d3d06048-aaba-4a6b-de2f-1dec16d8b44a"
      },
      "outputs": [
        {
          "output_type": "execute_result",
          "data": {
            "text/plain": [
              "Bedrooms            0\n",
              "Bathrooms           0\n",
              "Floor_no            0\n",
              "Occupancy_status    0\n",
              "Floor_area          0\n",
              "City                0\n",
              "Price_in_taka       0\n",
              "dtype: int64"
            ],
            "text/html": [
              "<div>\n",
              "<style scoped>\n",
              "    .dataframe tbody tr th:only-of-type {\n",
              "        vertical-align: middle;\n",
              "    }\n",
              "\n",
              "    .dataframe tbody tr th {\n",
              "        vertical-align: top;\n",
              "    }\n",
              "\n",
              "    .dataframe thead th {\n",
              "        text-align: right;\n",
              "    }\n",
              "</style>\n",
              "<table border=\"1\" class=\"dataframe\">\n",
              "  <thead>\n",
              "    <tr style=\"text-align: right;\">\n",
              "      <th></th>\n",
              "      <th>0</th>\n",
              "    </tr>\n",
              "  </thead>\n",
              "  <tbody>\n",
              "    <tr>\n",
              "      <th>Bedrooms</th>\n",
              "      <td>0</td>\n",
              "    </tr>\n",
              "    <tr>\n",
              "      <th>Bathrooms</th>\n",
              "      <td>0</td>\n",
              "    </tr>\n",
              "    <tr>\n",
              "      <th>Floor_no</th>\n",
              "      <td>0</td>\n",
              "    </tr>\n",
              "    <tr>\n",
              "      <th>Occupancy_status</th>\n",
              "      <td>0</td>\n",
              "    </tr>\n",
              "    <tr>\n",
              "      <th>Floor_area</th>\n",
              "      <td>0</td>\n",
              "    </tr>\n",
              "    <tr>\n",
              "      <th>City</th>\n",
              "      <td>0</td>\n",
              "    </tr>\n",
              "    <tr>\n",
              "      <th>Price_in_taka</th>\n",
              "      <td>0</td>\n",
              "    </tr>\n",
              "  </tbody>\n",
              "</table>\n",
              "</div><br><label><b>dtype:</b> int64</label>"
            ]
          },
          "metadata": {},
          "execution_count": 31
        }
      ],
      "source": [
        "df.isnull().sum()"
      ]
    },
    {
      "cell_type": "code",
      "execution_count": null,
      "metadata": {
        "id": "DXvryQJlGP8L",
        "colab": {
          "base_uri": "https://localhost:8080/"
        },
        "outputId": "99a6bcd8-2d7e-457e-c8de-b91ab667c8d3"
      },
      "outputs": [
        {
          "output_type": "stream",
          "name": "stdout",
          "text": [
            "Predictions on test set...\n",
            "...Done.\n"
          ]
        }
      ],
      "source": [
        "# Predictions on test set\n",
        "print(\"Predictions on test set...\")\n",
        "y_test_pred = regressor.predict(X_test)\n",
        "print(\"...Done.\")"
      ]
    },
    {
      "cell_type": "markdown",
      "metadata": {
        "id": "R1V3JKNSGP8L"
      },
      "source": [
        "## Evaluate the model 🌡️"
      ]
    },
    {
      "cell_type": "code",
      "execution_count": null,
      "metadata": {
        "id": "N_3b2AygGP8L",
        "colab": {
          "base_uri": "https://localhost:8080/"
        },
        "outputId": "6c068a8f-c85f-4e29-a381-f0e60feaece0"
      },
      "outputs": [
        {
          "output_type": "stream",
          "name": "stdout",
          "text": [
            "--- Assessing the performances of the model ---\n",
            "R2 score on training set :  0.6340662560809176\n",
            "R2 score on test set :  0.6910062965222885\n"
          ]
        }
      ],
      "source": [
        "# Performance assessment\n",
        "print(\"--- Assessing the performances of the model ---\")\n",
        "\n",
        "# Print R^2 scores\n",
        "print(\"R2 score on training set : \", regressor.score(X_train, y_train))\n",
        "print(\"R2 score on test set : \", regressor.score(X_test, y_test))"
      ]
    },
    {
      "cell_type": "markdown",
      "metadata": {
        "id": "DXLsn7DfGP8M"
      },
      "source": [
        "Depending on the results, we will be able to tell if the model is performing well and whether it is overfitting or not.\n",
        "\n",
        "* $R^2$ close to 1 means good performance\n",
        "* $R^2_{train}$ > $R^2_{test}$ means overfitting\n",
        "* $R^2_{train}$ < $R^2_{test}$ means underfitting"
      ]
    },
    {
      "cell_type": "markdown",
      "metadata": {
        "id": "GxosWuSDGP8M"
      },
      "source": [
        "## Feature importance 🥕"
      ]
    },
    {
      "cell_type": "code",
      "execution_count": null,
      "metadata": {
        "id": "cL1c4bX1GP8M",
        "colab": {
          "base_uri": "https://localhost:8080/"
        },
        "outputId": "ad0202f5-17c6-49e5-f0d4-99e0220eaaf0"
      },
      "outputs": [
        {
          "output_type": "stream",
          "name": "stdout",
          "text": [
            "coefficients are:  [  372644.158522    -538948.16085486  -531709.80648927   337834.81085961\n",
            "  -920667.85300402  1369536.67419822  -937182.33854517   167507.2609869\n",
            "   823332.05100864   361047.11204621   349131.43300713    46525.13569688\n",
            "   565312.39018733  -642838.70965007  -821524.15796947  -674217.67983577\n",
            " -1379755.56958539  2176439.15488     -363707.93717788   241242.03171887\n",
            "  -137679.54398585   137679.54398597  -704386.08158121  -122519.69395935\n",
            "  4513904.70770416]\n",
            "Constant is:  7127928.3091583885\n"
          ]
        }
      ],
      "source": [
        "print(\"coefficients are: \", regressor.coef_)\n",
        "print(\"Constant is: \", regressor.intercept_)"
      ]
    },
    {
      "cell_type": "markdown",
      "metadata": {
        "id": "kXHbkIfYGP8M"
      },
      "source": [
        "Now that we have the coefficients, we need to know which columns are associated with each one. If you look at `X_train` (or `X_test`), here is what you have:"
      ]
    },
    {
      "cell_type": "code",
      "execution_count": null,
      "metadata": {
        "id": "T-1eLFroQN_8",
        "colab": {
          "base_uri": "https://localhost:8080/"
        },
        "outputId": "f14aad9a-b1d2-4d54-a279-e874aaf31fb5"
      },
      "outputs": [
        {
          "output_type": "execute_result",
          "data": {
            "text/plain": [
              "array(['cat__Floor_no_1', 'cat__Floor_no_10', 'cat__Floor_no_11',\n",
              "       'cat__Floor_no_12', 'cat__Floor_no_13', 'cat__Floor_no_14',\n",
              "       'cat__Floor_no_17', 'cat__Floor_no_2', 'cat__Floor_no_3',\n",
              "       'cat__Floor_no_4', 'cat__Floor_no_5', 'cat__Floor_no_6',\n",
              "       'cat__Floor_no_7', 'cat__Floor_no_8', 'cat__Floor_no_9',\n",
              "       'cat__City_chattogram', 'cat__City_cumilla', 'cat__City_dhaka',\n",
              "       'cat__City_gazipur', 'cat__City_narayanganj-city',\n",
              "       'cat__Occupancy_status_occupied', 'cat__Occupancy_status_vacant',\n",
              "       'num__Bedrooms', 'num__Bathrooms', 'num__Floor_area'], dtype=object)"
            ]
          },
          "metadata": {},
          "execution_count": 35
        }
      ],
      "source": [
        "feature_encoder.get_feature_names_out()"
      ]
    },
    {
      "cell_type": "code",
      "execution_count": null,
      "metadata": {
        "id": "0Nwugv1WGP8M",
        "colab": {
          "base_uri": "https://localhost:8080/"
        },
        "outputId": "ed70a04d-aee8-4e77-8d02-e1a95a281023"
      },
      "outputs": [
        {
          "output_type": "stream",
          "name": "stdout",
          "text": [
            "  (0, 12)\t1.0\n",
            "  (0, 15)\t1.0\n",
            "  (0, 21)\t1.0\n",
            "  (0, 22)\t0.4301323936193399\n",
            "  (0, 23)\t0.37480419060791226\n",
            "  (0, 24)\t0.6295790001937677\n"
          ]
        }
      ],
      "source": [
        "X_train[:5] # Visualize the first line\n",
        "print(X_train[0])"
      ]
    },
    {
      "cell_type": "markdown",
      "metadata": {
        "id": "sPI3W4ChGP8M"
      },
      "source": [
        "But how can we show it in a DataFrame? Well first, we need to use the [`.categories_`](https://scikit-learn.org/stable/modules/generated/sklearn.preprocessing.OneHotEncoder.html?highlight=one%20hot%20encoder#sklearn.preprocessing.OneHotEncoder) attribute from [`OneHotEncoder`](https://scikit-learn.org/stable/modules/generated/sklearn.preprocessing.OneHotEncoder.html?highlight=one%20hot%20encoder#sklearn.preprocessing.OneHotEncoder).\n",
        "\n",
        "Since we use `ColumnTransformer`, we need to access `OneHotEncoder` using `.transformers_`"
      ]
    },
    {
      "cell_type": "code",
      "execution_count": null,
      "metadata": {
        "id": "Pfda5Lf1GP8M",
        "colab": {
          "base_uri": "https://localhost:8080/"
        },
        "outputId": "2ddeabe2-0c8d-4d30-8b62-0310b1b33637"
      },
      "outputs": [
        {
          "output_type": "stream",
          "name": "stdout",
          "text": [
            "All transformers are:  [('cat', OneHotEncoder(handle_unknown='ignore'), Index(['Floor_no', 'City', 'Occupancy_status'], dtype='object')), ('num', StandardScaler(), Index(['Bedrooms', 'Bathrooms', 'Floor_area'], dtype='object'))]\n",
            "One Hot Encoder transformer is:  OneHotEncoder(handle_unknown='ignore')\n"
          ]
        }
      ],
      "source": [
        "# Access transformers from feature_encoder\n",
        "print(\"All transformers are: \", feature_encoder.transformers_)\n",
        "\n",
        "# Access one specific transformer\n",
        "print(\"One Hot Encoder transformer is: \", feature_encoder.transformers_[0][1])"
      ]
    },
    {
      "cell_type": "markdown",
      "metadata": {
        "id": "PbBA3sF4GP8M"
      },
      "source": [
        "Now we can simply check the categories"
      ]
    },
    {
      "cell_type": "code",
      "execution_count": null,
      "metadata": {
        "id": "AdWtEWZCGP8M",
        "colab": {
          "base_uri": "https://localhost:8080/"
        },
        "outputId": "ba9bb667-0d9c-4cf6-e2b1-84d13d751fb9"
      },
      "outputs": [
        {
          "output_type": "stream",
          "name": "stdout",
          "text": [
            "Categorical columns are:  ['1' '10' '11' '12' '13' '14' '17' '2' '3' '4' '5' '6' '7' '8' '9'\n",
            " 'chattogram' 'cumilla' 'dhaka' 'gazipur' 'narayanganj-city' 'occupied'\n",
            " 'vacant']\n"
          ]
        }
      ],
      "source": [
        "# Print categories (modifying code)\n",
        "categorical_column_names = np.concatenate(feature_encoder.transformers_[0][1].categories_)\n",
        "print(\"Categorical columns are: \", categorical_column_names)"
      ]
    },
    {
      "cell_type": "markdown",
      "metadata": {
        "id": "QfbgjWQTGP8N"
      },
      "source": [
        "Now we can concatenate them with the numerical column names. We will use `numeric_features` variable to determine the name of our columns"
      ]
    },
    {
      "cell_type": "code",
      "execution_count": null,
      "metadata": {
        "id": "JVEcwyPXkUWW",
        "colab": {
          "base_uri": "https://localhost:8080/"
        },
        "outputId": "c76c113c-46ae-45d2-e007-acc59b578f55"
      },
      "outputs": [
        {
          "output_type": "stream",
          "name": "stdout",
          "text": [
            "numerical columns are:  Index(['Bedrooms', 'Bathrooms', 'Floor_area'], dtype='object')\n"
          ]
        }
      ],
      "source": [
        "numerical_column_names = X.loc[:, numerical_column].columns # using the .columns attribute gives us the name of the column\n",
        "print(\"numerical columns are: \", numerical_column_names)"
      ]
    },
    {
      "cell_type": "markdown",
      "metadata": {
        "id": "sF0BuZysGP8N"
      },
      "source": [
        "Finally, we need to concatenate our `numerical_column_names` and our `categorical_column_names`. The easiest way to do it is by using [np.append](https://numpy.org/doc/stable/reference/generated/numpy.append.html)"
      ]
    },
    {
      "cell_type": "code",
      "execution_count": null,
      "metadata": {
        "id": "g57ZltZQGP8N",
        "colab": {
          "base_uri": "https://localhost:8080/"
        },
        "outputId": "c040fb4c-21d7-4b24-eee1-5f6b195198a3"
      },
      "outputs": [
        {
          "output_type": "execute_result",
          "data": {
            "text/plain": [
              "array(['1', '10', '11', '12', '13', '14', '17', '2', '3', '4', '5', '6',\n",
              "       '7', '8', '9', 'chattogram', 'cumilla', 'dhaka', 'gazipur',\n",
              "       'narayanganj-city', 'occupied', 'vacant', 'Bedrooms', 'Bathrooms',\n",
              "       'Floor_area'], dtype=object)"
            ]
          },
          "metadata": {},
          "execution_count": 40
        }
      ],
      "source": [
        "# Append all columns\n",
        "all_column_names = np.append(categorical_column_names, numerical_column_names)\n",
        "all_column_names"
      ]
    },
    {
      "cell_type": "markdown",
      "metadata": {
        "id": "5DfsrFxYGP8N"
      },
      "source": [
        "Now we can finally rank all columns by importance using coefficients 🥰"
      ]
    },
    {
      "cell_type": "code",
      "execution_count": null,
      "metadata": {
        "id": "PijnHtLwGP8N",
        "colab": {
          "base_uri": "https://localhost:8080/",
          "height": 824
        },
        "outputId": "afd06419-b6ed-4d2d-ff48-ec922bf4b426"
      },
      "outputs": [
        {
          "output_type": "execute_result",
          "data": {
            "text/plain": [
              "                     feature_names  coefficients\n",
              "0                  cat__Floor_no_1  3.726442e+05\n",
              "1                 cat__Floor_no_10 -5.389482e+05\n",
              "2                 cat__Floor_no_11 -5.317098e+05\n",
              "3                 cat__Floor_no_12  3.378348e+05\n",
              "4                 cat__Floor_no_13 -9.206679e+05\n",
              "5                 cat__Floor_no_14  1.369537e+06\n",
              "6                 cat__Floor_no_17 -9.371823e+05\n",
              "7                  cat__Floor_no_2  1.675073e+05\n",
              "8                  cat__Floor_no_3  8.233321e+05\n",
              "9                  cat__Floor_no_4  3.610471e+05\n",
              "10                 cat__Floor_no_5  3.491314e+05\n",
              "11                 cat__Floor_no_6  4.652514e+04\n",
              "12                 cat__Floor_no_7  5.653124e+05\n",
              "13                 cat__Floor_no_8 -6.428387e+05\n",
              "14                 cat__Floor_no_9 -8.215242e+05\n",
              "15            cat__City_chattogram -6.742177e+05\n",
              "16               cat__City_cumilla -1.379756e+06\n",
              "17                 cat__City_dhaka  2.176439e+06\n",
              "18               cat__City_gazipur -3.637079e+05\n",
              "19      cat__City_narayanganj-city  2.412420e+05\n",
              "20  cat__Occupancy_status_occupied -1.376795e+05\n",
              "21    cat__Occupancy_status_vacant  1.376795e+05\n",
              "22                   num__Bedrooms -7.043861e+05\n",
              "23                  num__Bathrooms -1.225197e+05\n",
              "24                 num__Floor_area  4.513905e+06"
            ],
            "text/html": [
              "\n",
              "  <div id=\"df-90c1d9d2-bdf6-4326-85c6-ce3391f570ee\" class=\"colab-df-container\">\n",
              "    <div>\n",
              "<style scoped>\n",
              "    .dataframe tbody tr th:only-of-type {\n",
              "        vertical-align: middle;\n",
              "    }\n",
              "\n",
              "    .dataframe tbody tr th {\n",
              "        vertical-align: top;\n",
              "    }\n",
              "\n",
              "    .dataframe thead th {\n",
              "        text-align: right;\n",
              "    }\n",
              "</style>\n",
              "<table border=\"1\" class=\"dataframe\">\n",
              "  <thead>\n",
              "    <tr style=\"text-align: right;\">\n",
              "      <th></th>\n",
              "      <th>feature_names</th>\n",
              "      <th>coefficients</th>\n",
              "    </tr>\n",
              "  </thead>\n",
              "  <tbody>\n",
              "    <tr>\n",
              "      <th>0</th>\n",
              "      <td>cat__Floor_no_1</td>\n",
              "      <td>3.726442e+05</td>\n",
              "    </tr>\n",
              "    <tr>\n",
              "      <th>1</th>\n",
              "      <td>cat__Floor_no_10</td>\n",
              "      <td>-5.389482e+05</td>\n",
              "    </tr>\n",
              "    <tr>\n",
              "      <th>2</th>\n",
              "      <td>cat__Floor_no_11</td>\n",
              "      <td>-5.317098e+05</td>\n",
              "    </tr>\n",
              "    <tr>\n",
              "      <th>3</th>\n",
              "      <td>cat__Floor_no_12</td>\n",
              "      <td>3.378348e+05</td>\n",
              "    </tr>\n",
              "    <tr>\n",
              "      <th>4</th>\n",
              "      <td>cat__Floor_no_13</td>\n",
              "      <td>-9.206679e+05</td>\n",
              "    </tr>\n",
              "    <tr>\n",
              "      <th>5</th>\n",
              "      <td>cat__Floor_no_14</td>\n",
              "      <td>1.369537e+06</td>\n",
              "    </tr>\n",
              "    <tr>\n",
              "      <th>6</th>\n",
              "      <td>cat__Floor_no_17</td>\n",
              "      <td>-9.371823e+05</td>\n",
              "    </tr>\n",
              "    <tr>\n",
              "      <th>7</th>\n",
              "      <td>cat__Floor_no_2</td>\n",
              "      <td>1.675073e+05</td>\n",
              "    </tr>\n",
              "    <tr>\n",
              "      <th>8</th>\n",
              "      <td>cat__Floor_no_3</td>\n",
              "      <td>8.233321e+05</td>\n",
              "    </tr>\n",
              "    <tr>\n",
              "      <th>9</th>\n",
              "      <td>cat__Floor_no_4</td>\n",
              "      <td>3.610471e+05</td>\n",
              "    </tr>\n",
              "    <tr>\n",
              "      <th>10</th>\n",
              "      <td>cat__Floor_no_5</td>\n",
              "      <td>3.491314e+05</td>\n",
              "    </tr>\n",
              "    <tr>\n",
              "      <th>11</th>\n",
              "      <td>cat__Floor_no_6</td>\n",
              "      <td>4.652514e+04</td>\n",
              "    </tr>\n",
              "    <tr>\n",
              "      <th>12</th>\n",
              "      <td>cat__Floor_no_7</td>\n",
              "      <td>5.653124e+05</td>\n",
              "    </tr>\n",
              "    <tr>\n",
              "      <th>13</th>\n",
              "      <td>cat__Floor_no_8</td>\n",
              "      <td>-6.428387e+05</td>\n",
              "    </tr>\n",
              "    <tr>\n",
              "      <th>14</th>\n",
              "      <td>cat__Floor_no_9</td>\n",
              "      <td>-8.215242e+05</td>\n",
              "    </tr>\n",
              "    <tr>\n",
              "      <th>15</th>\n",
              "      <td>cat__City_chattogram</td>\n",
              "      <td>-6.742177e+05</td>\n",
              "    </tr>\n",
              "    <tr>\n",
              "      <th>16</th>\n",
              "      <td>cat__City_cumilla</td>\n",
              "      <td>-1.379756e+06</td>\n",
              "    </tr>\n",
              "    <tr>\n",
              "      <th>17</th>\n",
              "      <td>cat__City_dhaka</td>\n",
              "      <td>2.176439e+06</td>\n",
              "    </tr>\n",
              "    <tr>\n",
              "      <th>18</th>\n",
              "      <td>cat__City_gazipur</td>\n",
              "      <td>-3.637079e+05</td>\n",
              "    </tr>\n",
              "    <tr>\n",
              "      <th>19</th>\n",
              "      <td>cat__City_narayanganj-city</td>\n",
              "      <td>2.412420e+05</td>\n",
              "    </tr>\n",
              "    <tr>\n",
              "      <th>20</th>\n",
              "      <td>cat__Occupancy_status_occupied</td>\n",
              "      <td>-1.376795e+05</td>\n",
              "    </tr>\n",
              "    <tr>\n",
              "      <th>21</th>\n",
              "      <td>cat__Occupancy_status_vacant</td>\n",
              "      <td>1.376795e+05</td>\n",
              "    </tr>\n",
              "    <tr>\n",
              "      <th>22</th>\n",
              "      <td>num__Bedrooms</td>\n",
              "      <td>-7.043861e+05</td>\n",
              "    </tr>\n",
              "    <tr>\n",
              "      <th>23</th>\n",
              "      <td>num__Bathrooms</td>\n",
              "      <td>-1.225197e+05</td>\n",
              "    </tr>\n",
              "    <tr>\n",
              "      <th>24</th>\n",
              "      <td>num__Floor_area</td>\n",
              "      <td>4.513905e+06</td>\n",
              "    </tr>\n",
              "  </tbody>\n",
              "</table>\n",
              "</div>\n",
              "    <div class=\"colab-df-buttons\">\n",
              "\n",
              "  <div class=\"colab-df-container\">\n",
              "    <button class=\"colab-df-convert\" onclick=\"convertToInteractive('df-90c1d9d2-bdf6-4326-85c6-ce3391f570ee')\"\n",
              "            title=\"Convert this dataframe to an interactive table.\"\n",
              "            style=\"display:none;\">\n",
              "\n",
              "  <svg xmlns=\"http://www.w3.org/2000/svg\" height=\"24px\" viewBox=\"0 -960 960 960\">\n",
              "    <path d=\"M120-120v-720h720v720H120Zm60-500h600v-160H180v160Zm220 220h160v-160H400v160Zm0 220h160v-160H400v160ZM180-400h160v-160H180v160Zm440 0h160v-160H620v160ZM180-180h160v-160H180v160Zm440 0h160v-160H620v160Z\"/>\n",
              "  </svg>\n",
              "    </button>\n",
              "\n",
              "  <style>\n",
              "    .colab-df-container {\n",
              "      display:flex;\n",
              "      gap: 12px;\n",
              "    }\n",
              "\n",
              "    .colab-df-convert {\n",
              "      background-color: #E8F0FE;\n",
              "      border: none;\n",
              "      border-radius: 50%;\n",
              "      cursor: pointer;\n",
              "      display: none;\n",
              "      fill: #1967D2;\n",
              "      height: 32px;\n",
              "      padding: 0 0 0 0;\n",
              "      width: 32px;\n",
              "    }\n",
              "\n",
              "    .colab-df-convert:hover {\n",
              "      background-color: #E2EBFA;\n",
              "      box-shadow: 0px 1px 2px rgba(60, 64, 67, 0.3), 0px 1px 3px 1px rgba(60, 64, 67, 0.15);\n",
              "      fill: #174EA6;\n",
              "    }\n",
              "\n",
              "    .colab-df-buttons div {\n",
              "      margin-bottom: 4px;\n",
              "    }\n",
              "\n",
              "    [theme=dark] .colab-df-convert {\n",
              "      background-color: #3B4455;\n",
              "      fill: #D2E3FC;\n",
              "    }\n",
              "\n",
              "    [theme=dark] .colab-df-convert:hover {\n",
              "      background-color: #434B5C;\n",
              "      box-shadow: 0px 1px 3px 1px rgba(0, 0, 0, 0.15);\n",
              "      filter: drop-shadow(0px 1px 2px rgba(0, 0, 0, 0.3));\n",
              "      fill: #FFFFFF;\n",
              "    }\n",
              "  </style>\n",
              "\n",
              "    <script>\n",
              "      const buttonEl =\n",
              "        document.querySelector('#df-90c1d9d2-bdf6-4326-85c6-ce3391f570ee button.colab-df-convert');\n",
              "      buttonEl.style.display =\n",
              "        google.colab.kernel.accessAllowed ? 'block' : 'none';\n",
              "\n",
              "      async function convertToInteractive(key) {\n",
              "        const element = document.querySelector('#df-90c1d9d2-bdf6-4326-85c6-ce3391f570ee');\n",
              "        const dataTable =\n",
              "          await google.colab.kernel.invokeFunction('convertToInteractive',\n",
              "                                                    [key], {});\n",
              "        if (!dataTable) return;\n",
              "\n",
              "        const docLinkHtml = 'Like what you see? Visit the ' +\n",
              "          '<a target=\"_blank\" href=https://colab.research.google.com/notebooks/data_table.ipynb>data table notebook</a>'\n",
              "          + ' to learn more about interactive tables.';\n",
              "        element.innerHTML = '';\n",
              "        dataTable['output_type'] = 'display_data';\n",
              "        await google.colab.output.renderOutput(dataTable, element);\n",
              "        const docLink = document.createElement('div');\n",
              "        docLink.innerHTML = docLinkHtml;\n",
              "        element.appendChild(docLink);\n",
              "      }\n",
              "    </script>\n",
              "  </div>\n",
              "\n",
              "\n",
              "<div id=\"df-3f63943e-306e-492c-8f4d-0e732e104aba\">\n",
              "  <button class=\"colab-df-quickchart\" onclick=\"quickchart('df-3f63943e-306e-492c-8f4d-0e732e104aba')\"\n",
              "            title=\"Suggest charts\"\n",
              "            style=\"display:none;\">\n",
              "\n",
              "<svg xmlns=\"http://www.w3.org/2000/svg\" height=\"24px\"viewBox=\"0 0 24 24\"\n",
              "     width=\"24px\">\n",
              "    <g>\n",
              "        <path d=\"M19 3H5c-1.1 0-2 .9-2 2v14c0 1.1.9 2 2 2h14c1.1 0 2-.9 2-2V5c0-1.1-.9-2-2-2zM9 17H7v-7h2v7zm4 0h-2V7h2v10zm4 0h-2v-4h2v4z\"/>\n",
              "    </g>\n",
              "</svg>\n",
              "  </button>\n",
              "\n",
              "<style>\n",
              "  .colab-df-quickchart {\n",
              "      --bg-color: #E8F0FE;\n",
              "      --fill-color: #1967D2;\n",
              "      --hover-bg-color: #E2EBFA;\n",
              "      --hover-fill-color: #174EA6;\n",
              "      --disabled-fill-color: #AAA;\n",
              "      --disabled-bg-color: #DDD;\n",
              "  }\n",
              "\n",
              "  [theme=dark] .colab-df-quickchart {\n",
              "      --bg-color: #3B4455;\n",
              "      --fill-color: #D2E3FC;\n",
              "      --hover-bg-color: #434B5C;\n",
              "      --hover-fill-color: #FFFFFF;\n",
              "      --disabled-bg-color: #3B4455;\n",
              "      --disabled-fill-color: #666;\n",
              "  }\n",
              "\n",
              "  .colab-df-quickchart {\n",
              "    background-color: var(--bg-color);\n",
              "    border: none;\n",
              "    border-radius: 50%;\n",
              "    cursor: pointer;\n",
              "    display: none;\n",
              "    fill: var(--fill-color);\n",
              "    height: 32px;\n",
              "    padding: 0;\n",
              "    width: 32px;\n",
              "  }\n",
              "\n",
              "  .colab-df-quickchart:hover {\n",
              "    background-color: var(--hover-bg-color);\n",
              "    box-shadow: 0 1px 2px rgba(60, 64, 67, 0.3), 0 1px 3px 1px rgba(60, 64, 67, 0.15);\n",
              "    fill: var(--button-hover-fill-color);\n",
              "  }\n",
              "\n",
              "  .colab-df-quickchart-complete:disabled,\n",
              "  .colab-df-quickchart-complete:disabled:hover {\n",
              "    background-color: var(--disabled-bg-color);\n",
              "    fill: var(--disabled-fill-color);\n",
              "    box-shadow: none;\n",
              "  }\n",
              "\n",
              "  .colab-df-spinner {\n",
              "    border: 2px solid var(--fill-color);\n",
              "    border-color: transparent;\n",
              "    border-bottom-color: var(--fill-color);\n",
              "    animation:\n",
              "      spin 1s steps(1) infinite;\n",
              "  }\n",
              "\n",
              "  @keyframes spin {\n",
              "    0% {\n",
              "      border-color: transparent;\n",
              "      border-bottom-color: var(--fill-color);\n",
              "      border-left-color: var(--fill-color);\n",
              "    }\n",
              "    20% {\n",
              "      border-color: transparent;\n",
              "      border-left-color: var(--fill-color);\n",
              "      border-top-color: var(--fill-color);\n",
              "    }\n",
              "    30% {\n",
              "      border-color: transparent;\n",
              "      border-left-color: var(--fill-color);\n",
              "      border-top-color: var(--fill-color);\n",
              "      border-right-color: var(--fill-color);\n",
              "    }\n",
              "    40% {\n",
              "      border-color: transparent;\n",
              "      border-right-color: var(--fill-color);\n",
              "      border-top-color: var(--fill-color);\n",
              "    }\n",
              "    60% {\n",
              "      border-color: transparent;\n",
              "      border-right-color: var(--fill-color);\n",
              "    }\n",
              "    80% {\n",
              "      border-color: transparent;\n",
              "      border-right-color: var(--fill-color);\n",
              "      border-bottom-color: var(--fill-color);\n",
              "    }\n",
              "    90% {\n",
              "      border-color: transparent;\n",
              "      border-bottom-color: var(--fill-color);\n",
              "    }\n",
              "  }\n",
              "</style>\n",
              "\n",
              "  <script>\n",
              "    async function quickchart(key) {\n",
              "      const quickchartButtonEl =\n",
              "        document.querySelector('#' + key + ' button');\n",
              "      quickchartButtonEl.disabled = true;  // To prevent multiple clicks.\n",
              "      quickchartButtonEl.classList.add('colab-df-spinner');\n",
              "      try {\n",
              "        const charts = await google.colab.kernel.invokeFunction(\n",
              "            'suggestCharts', [key], {});\n",
              "      } catch (error) {\n",
              "        console.error('Error during call to suggestCharts:', error);\n",
              "      }\n",
              "      quickchartButtonEl.classList.remove('colab-df-spinner');\n",
              "      quickchartButtonEl.classList.add('colab-df-quickchart-complete');\n",
              "    }\n",
              "    (() => {\n",
              "      let quickchartButtonEl =\n",
              "        document.querySelector('#df-3f63943e-306e-492c-8f4d-0e732e104aba button');\n",
              "      quickchartButtonEl.style.display =\n",
              "        google.colab.kernel.accessAllowed ? 'block' : 'none';\n",
              "    })();\n",
              "  </script>\n",
              "</div>\n",
              "\n",
              "  <div id=\"id_41dbb5f1-8fb4-4fad-893e-f94f02e04e71\">\n",
              "    <style>\n",
              "      .colab-df-generate {\n",
              "        background-color: #E8F0FE;\n",
              "        border: none;\n",
              "        border-radius: 50%;\n",
              "        cursor: pointer;\n",
              "        display: none;\n",
              "        fill: #1967D2;\n",
              "        height: 32px;\n",
              "        padding: 0 0 0 0;\n",
              "        width: 32px;\n",
              "      }\n",
              "\n",
              "      .colab-df-generate:hover {\n",
              "        background-color: #E2EBFA;\n",
              "        box-shadow: 0px 1px 2px rgba(60, 64, 67, 0.3), 0px 1px 3px 1px rgba(60, 64, 67, 0.15);\n",
              "        fill: #174EA6;\n",
              "      }\n",
              "\n",
              "      [theme=dark] .colab-df-generate {\n",
              "        background-color: #3B4455;\n",
              "        fill: #D2E3FC;\n",
              "      }\n",
              "\n",
              "      [theme=dark] .colab-df-generate:hover {\n",
              "        background-color: #434B5C;\n",
              "        box-shadow: 0px 1px 3px 1px rgba(0, 0, 0, 0.15);\n",
              "        filter: drop-shadow(0px 1px 2px rgba(0, 0, 0, 0.3));\n",
              "        fill: #FFFFFF;\n",
              "      }\n",
              "    </style>\n",
              "    <button class=\"colab-df-generate\" onclick=\"generateWithVariable('feature_importance')\"\n",
              "            title=\"Generate code using this dataframe.\"\n",
              "            style=\"display:none;\">\n",
              "\n",
              "  <svg xmlns=\"http://www.w3.org/2000/svg\" height=\"24px\"viewBox=\"0 0 24 24\"\n",
              "       width=\"24px\">\n",
              "    <path d=\"M7,19H8.4L18.45,9,17,7.55,7,17.6ZM5,21V16.75L18.45,3.32a2,2,0,0,1,2.83,0l1.4,1.43a1.91,1.91,0,0,1,.58,1.4,1.91,1.91,0,0,1-.58,1.4L9.25,21ZM18.45,9,17,7.55Zm-12,3A5.31,5.31,0,0,0,4.9,8.1,5.31,5.31,0,0,0,1,6.5,5.31,5.31,0,0,0,4.9,4.9,5.31,5.31,0,0,0,6.5,1,5.31,5.31,0,0,0,8.1,4.9,5.31,5.31,0,0,0,12,6.5,5.46,5.46,0,0,0,6.5,12Z\"/>\n",
              "  </svg>\n",
              "    </button>\n",
              "    <script>\n",
              "      (() => {\n",
              "      const buttonEl =\n",
              "        document.querySelector('#id_41dbb5f1-8fb4-4fad-893e-f94f02e04e71 button.colab-df-generate');\n",
              "      buttonEl.style.display =\n",
              "        google.colab.kernel.accessAllowed ? 'block' : 'none';\n",
              "\n",
              "      buttonEl.onclick = () => {\n",
              "        google.colab.notebook.generateWithVariable('feature_importance');\n",
              "      }\n",
              "      })();\n",
              "    </script>\n",
              "  </div>\n",
              "\n",
              "    </div>\n",
              "  </div>\n"
            ],
            "application/vnd.google.colaboratory.intrinsic+json": {
              "type": "dataframe",
              "variable_name": "feature_importance",
              "summary": "{\n  \"name\": \"feature_importance\",\n  \"rows\": 25,\n  \"fields\": [\n    {\n      \"column\": \"feature_names\",\n      \"properties\": {\n        \"dtype\": \"string\",\n        \"num_unique_values\": 25,\n        \"samples\": [\n          \"cat__Floor_no_3\",\n          \"cat__City_cumilla\",\n          \"cat__Floor_no_1\"\n        ],\n        \"semantic_type\": \"\",\n        \"description\": \"\"\n      }\n    },\n    {\n      \"column\": \"coefficients\",\n      \"properties\": {\n        \"dtype\": \"number\",\n        \"std\": 1198299.8103718637,\n        \"min\": -1379755.5695853939,\n        \"max\": 4513904.707704161,\n        \"num_unique_values\": 25,\n        \"samples\": [\n          823332.0510086399,\n          -1379755.5695853939,\n          372644.1585220009\n        ],\n        \"semantic_type\": \"\",\n        \"description\": \"\"\n      }\n    }\n  ]\n}"
            }
          },
          "metadata": {},
          "execution_count": 41
        }
      ],
      "source": [
        "# Feature importance\n",
        "feature_importance = pd.DataFrame({\n",
        "    \"feature_names\": feature_encoder.get_feature_names_out(),\n",
        "    \"coefficients\":regressor.coef_\n",
        "})\n",
        "\n",
        "feature_importance"
      ]
    },
    {
      "cell_type": "code",
      "execution_count": null,
      "metadata": {
        "id": "Vo4X5Fn1_Dom"
      },
      "outputs": [],
      "source": [
        "# Set coefficient to absolute values to rank features\n",
        "feature_importance[\"coefficients\"] = feature_importance[\"coefficients\"]"
      ]
    },
    {
      "cell_type": "code",
      "execution_count": null,
      "metadata": {
        "id": "kp2Sn_-6mvgc"
      },
      "outputs": [],
      "source": []
    },
    {
      "cell_type": "code",
      "execution_count": null,
      "metadata": {
        "id": "nSjmI-BJGP8N",
        "colab": {
          "base_uri": "https://localhost:8080/",
          "height": 132
        },
        "outputId": "a743fc4a-a544-4e5c-8251-aba84b5b2a4a"
      },
      "outputs": [
        {
          "output_type": "execute_result",
          "data": {
            "text/plain": [
              "<seaborn.axisgrid.FacetGrid at 0x796f1ee71b50>"
            ]
          },
          "metadata": {},
          "execution_count": 43
        },
        {
          "output_type": "display_data",
          "data": {
            "text/plain": [
              "<Figure size 5011.11x500 with 1 Axes>"
            ],
            "image/png": "[encoded data removed]"
          },
          "metadata": {}
        }
      ],
      "source": [
        "# Visualize ranked features using seaborn\n",
        "sns.catplot(x=\"feature_names\",\n",
        "            y=\"coefficients\",\n",
        "            data=feature_importance.sort_values(by=\"coefficients\", ascending=False),\n",
        "            kind=\"bar\",\n",
        "            aspect=100/10) # Resize graph"
      ]
    },
    {
      "cell_type": "code",
      "execution_count": null,
      "metadata": {
        "id": "DnulXWizOJCU",
        "colab": {
          "base_uri": "https://localhost:8080/"
        },
        "outputId": "8b8633f2-8d9f-4e37-b957-6159ef4d822a"
      },
      "outputs": [
        {
          "output_type": "stream",
          "name": "stdout",
          "text": [
            "Mean Absolute Error: 1846017.73 ৳\n",
            "Mean Absolute Error: 13984.98 €\n"
          ]
        }
      ],
      "source": [
        "y_pred = regressor.predict(X_test)\n",
        "mae = mean_absolute_error(y_test, y_pred)\n",
        "# conversion rate € => ৳ : 132\n",
        "euro_to_taka = 132\n",
        "print('Mean Absolute Error:', round(mae,2),'৳')\n",
        "print('Mean Absolute Error:', round(mae/euro_to_taka,2),'€')"
      ]
    }
  ],
  "metadata": {
    "colab": {
      "provenance": [],
      "include_colab_link": true
    },
    "interpreter": {
      "hash": "216d08ced86f1f6e0b5764233bcb18334be12ba95b6ee555f60be9cf0be8c147"
    },
    "kernelspec": {
      "display_name": "Python 3",
      "language": "python",
      "name": "python3"
    },
    "language_info": {
      "codemirror_mode": {
        "name": "ipython",
        "version": 3
      },
      "file_extension": ".py",
      "mimetype": "text/x-python",
      "name": "python",
      "nbconvert_exporter": "python",
      "pygments_lexer": "ipython3",
      "version": "3.8.3"
    }
  },
  "nbformat": 4,
  "nbformat_minor": 0
}